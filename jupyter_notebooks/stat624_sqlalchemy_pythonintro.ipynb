{
 "cells": [
  {
   "cell_type": "markdown",
   "id": "1c90a6a4",
   "metadata": {},
   "source": [
    "**© 2023 Scott A. Bruce. Do not distribute.**\n",
    "\n",
    "# 1. SQL Alchemy to load data into Python"
   ]
  },
  {
   "cell_type": "code",
   "execution_count": 1,
   "id": "bc43e2e1",
   "metadata": {},
   "outputs": [],
   "source": [
    "from sqlalchemy import create_engine\n",
    "import pandas as pd\n",
    "from IPython.core.interactiveshell import InteractiveShell\n",
    "InteractiveShell.ast_node_interactivity = \"all\""
   ]
  },
  {
   "cell_type": "code",
   "execution_count": null,
   "id": "926428e8",
   "metadata": {},
   "outputs": [],
   "source": []
  },
  {
   "cell_type": "code",
   "execution_count": 2,
   "id": "8d1f6f08",
   "metadata": {},
   "outputs": [],
   "source": [
    "%matplotlib inline"
   ]
  },
  {
   "cell_type": "code",
   "execution_count": 3,
   "id": "86e8f22a",
   "metadata": {},
   "outputs": [
    {
     "name": "stdout",
     "output_type": "stream",
     "text": [
      "postgresql+psycopg2://{username}:{pswd}@{host}:{port}/{database}\n"
     ]
    }
   ],
   "source": [
    "cnxn_string = (\"postgresql+psycopg2://{username}:{pswd}\"\n",
    "              \"@{host}:{port}/{database}\")\n",
    "print(cnxn_string)"
   ]
  },
  {
   "cell_type": "code",
   "execution_count": 7,
   "id": "5493972c",
   "metadata": {},
   "outputs": [
    {
     "data": {
      "text/plain": [
       "[(1, None, 'Arlena', 'Riveles', None, 'ariveles0@stumbleupon.com', 'F', '98.36.172.246', None, None, None, None, None, None, None, datetime.datetime(2017, 4, 23, 0, 0)),\n",
       " (2, 'Dr', 'Ode', 'Stovin', None, 'ostovin1@npr.org', 'M', '16.97.59.186', '314-534-4361', '2573 Fordem Parkway', 'Saint Louis', 'MO', '63116', 38.5814, -90.2625, datetime.datetime(2014, 10, 2, 0, 0))]"
      ]
     },
     "execution_count": 7,
     "metadata": {},
     "output_type": "execute_result"
    }
   ],
   "source": [
    "engine = create_engine(cnxn_string.format(\n",
    "    username=\"postgres\",\n",
    "    pswd=\"stat1234\", \n",
    "    host=\"pg_container\",\n",
    "    port=5432,\n",
    "    database=\"sqlda\"))\n",
    "engine.execute(\"SELECT * FROM customers LIMIT 2;\").fetchall()"
   ]
  },
  {
   "cell_type": "code",
   "execution_count": 6,
   "id": "aae95eff-0bcb-415f-837d-4f8736a25cdd",
   "metadata": {},
   "outputs": [],
   "source": [
    "engine = create_engine(cnxn_string.format(\n",
    "    username=\"postgres\",\n",
    "    pswd=\"stat1234\", \n",
    "    host=\"postgres\",\n",
    "    port=5432,\n",
    "    database=\"sqlda\"))\n",
    "engine.execute(\"SELECT * FROM customers LIMIT 2;\").fetchall()"
   ]
  },
  {
   "cell_type": "code",
   "execution_count": 11,
   "id": "6ed8b6e3-df11-43bf-aba9-045c7a8a94e8",
   "metadata": {},
   "outputs": [],
   "source": [
    "conn_url = 'postgresql://postgres:stat1234@pg_container/sqlda'\n",
    "\n",
    "engine = create_engine(conn_url)"
   ]
  },
  {
   "cell_type": "code",
   "execution_count": 9,
   "id": "92bf4b60-101c-423f-af17-defc4e93a1b4",
   "metadata": {},
   "outputs": [],
   "source": [
    "engine = create_engine('postgresql://postgres:stat1234@{}:5432/sqlda'.format('service_name_of_postgres'))"
   ]
  },
  {
   "cell_type": "code",
   "execution_count": 12,
   "id": "8d19743b-6267-4681-bfbf-99452bdd102e",
   "metadata": {},
   "outputs": [
    {
     "ename": "OperationalError",
     "evalue": "(psycopg2.OperationalError) connection to server at \"pg_container\" (172.20.0.3), port 5432 failed: FATAL:  password authentication failed for user \"postgres\"\n\n(Background on this error at: http://sqlalche.me/e/14/e3q8)",
     "output_type": "error",
     "traceback": [
      "\u001b[0;31m---------------------------------------------------------------------------\u001b[0m",
      "\u001b[0;31mOperationalError\u001b[0m                          Traceback (most recent call last)",
      "File \u001b[0;32m/usr/local/lib/python3.11/site-packages/sqlalchemy/engine/base.py:3212\u001b[0m, in \u001b[0;36mEngine._wrap_pool_connect\u001b[0;34m(self, fn, connection)\u001b[0m\n\u001b[1;32m   3211\u001b[0m \u001b[38;5;28;01mtry\u001b[39;00m:\n\u001b[0;32m-> 3212\u001b[0m     \u001b[38;5;28;01mreturn\u001b[39;00m \u001b[43mfn\u001b[49m\u001b[43m(\u001b[49m\u001b[43m)\u001b[49m\n\u001b[1;32m   3213\u001b[0m \u001b[38;5;28;01mexcept\u001b[39;00m dialect\u001b[38;5;241m.\u001b[39mdbapi\u001b[38;5;241m.\u001b[39mError \u001b[38;5;28;01mas\u001b[39;00m e:\n",
      "File \u001b[0;32m/usr/local/lib/python3.11/site-packages/sqlalchemy/pool/base.py:301\u001b[0m, in \u001b[0;36mPool.connect\u001b[0;34m(self)\u001b[0m\n\u001b[1;32m    294\u001b[0m \u001b[38;5;250m\u001b[39m\u001b[38;5;124;03m\"\"\"Return a DBAPI connection from the pool.\u001b[39;00m\n\u001b[1;32m    295\u001b[0m \n\u001b[1;32m    296\u001b[0m \u001b[38;5;124;03mThe connection is instrumented such that when its\u001b[39;00m\n\u001b[0;32m   (...)\u001b[0m\n\u001b[1;32m    299\u001b[0m \n\u001b[1;32m    300\u001b[0m \u001b[38;5;124;03m\"\"\"\u001b[39;00m\n\u001b[0;32m--> 301\u001b[0m \u001b[38;5;28;01mreturn\u001b[39;00m \u001b[43m_ConnectionFairy\u001b[49m\u001b[38;5;241;43m.\u001b[39;49m\u001b[43m_checkout\u001b[49m\u001b[43m(\u001b[49m\u001b[38;5;28;43mself\u001b[39;49m\u001b[43m)\u001b[49m\n",
      "File \u001b[0;32m/usr/local/lib/python3.11/site-packages/sqlalchemy/pool/base.py:761\u001b[0m, in \u001b[0;36m_ConnectionFairy._checkout\u001b[0;34m(cls, pool, threadconns, fairy)\u001b[0m\n\u001b[1;32m    760\u001b[0m \u001b[38;5;28;01mif\u001b[39;00m \u001b[38;5;129;01mnot\u001b[39;00m fairy:\n\u001b[0;32m--> 761\u001b[0m     fairy \u001b[38;5;241m=\u001b[39m \u001b[43m_ConnectionRecord\u001b[49m\u001b[38;5;241;43m.\u001b[39;49m\u001b[43mcheckout\u001b[49m\u001b[43m(\u001b[49m\u001b[43mpool\u001b[49m\u001b[43m)\u001b[49m\n\u001b[1;32m    763\u001b[0m     fairy\u001b[38;5;241m.\u001b[39m_pool \u001b[38;5;241m=\u001b[39m pool\n",
      "File \u001b[0;32m/usr/local/lib/python3.11/site-packages/sqlalchemy/pool/base.py:419\u001b[0m, in \u001b[0;36m_ConnectionRecord.checkout\u001b[0;34m(cls, pool)\u001b[0m\n\u001b[1;32m    417\u001b[0m \u001b[38;5;129m@classmethod\u001b[39m\n\u001b[1;32m    418\u001b[0m \u001b[38;5;28;01mdef\u001b[39;00m \u001b[38;5;21mcheckout\u001b[39m(\u001b[38;5;28mcls\u001b[39m, pool):\n\u001b[0;32m--> 419\u001b[0m     rec \u001b[38;5;241m=\u001b[39m \u001b[43mpool\u001b[49m\u001b[38;5;241;43m.\u001b[39;49m\u001b[43m_do_get\u001b[49m\u001b[43m(\u001b[49m\u001b[43m)\u001b[49m\n\u001b[1;32m    420\u001b[0m     \u001b[38;5;28;01mtry\u001b[39;00m:\n",
      "File \u001b[0;32m/usr/local/lib/python3.11/site-packages/sqlalchemy/pool/impl.py:144\u001b[0m, in \u001b[0;36mQueuePool._do_get\u001b[0;34m(self)\u001b[0m\n\u001b[1;32m    143\u001b[0m \u001b[38;5;28;01mexcept\u001b[39;00m:\n\u001b[0;32m--> 144\u001b[0m \u001b[43m    \u001b[49m\u001b[38;5;28;43;01mwith\u001b[39;49;00m\u001b[43m \u001b[49m\u001b[43mutil\u001b[49m\u001b[38;5;241;43m.\u001b[39;49m\u001b[43msafe_reraise\u001b[49m\u001b[43m(\u001b[49m\u001b[43m)\u001b[49m\u001b[43m:\u001b[49m\n\u001b[1;32m    145\u001b[0m \u001b[43m        \u001b[49m\u001b[38;5;28;43mself\u001b[39;49m\u001b[38;5;241;43m.\u001b[39;49m\u001b[43m_dec_overflow\u001b[49m\u001b[43m(\u001b[49m\u001b[43m)\u001b[49m\n",
      "File \u001b[0;32m/usr/local/lib/python3.11/site-packages/sqlalchemy/util/langhelpers.py:70\u001b[0m, in \u001b[0;36msafe_reraise.__exit__\u001b[0;34m(self, type_, value, traceback)\u001b[0m\n\u001b[1;32m     69\u001b[0m     \u001b[38;5;28;01mif\u001b[39;00m \u001b[38;5;129;01mnot\u001b[39;00m \u001b[38;5;28mself\u001b[39m\u001b[38;5;241m.\u001b[39mwarn_only:\n\u001b[0;32m---> 70\u001b[0m         \u001b[43mcompat\u001b[49m\u001b[38;5;241;43m.\u001b[39;49m\u001b[43mraise_\u001b[49m\u001b[43m(\u001b[49m\n\u001b[1;32m     71\u001b[0m \u001b[43m            \u001b[49m\u001b[43mexc_value\u001b[49m\u001b[43m,\u001b[49m\n\u001b[1;32m     72\u001b[0m \u001b[43m            \u001b[49m\u001b[43mwith_traceback\u001b[49m\u001b[38;5;241;43m=\u001b[39;49m\u001b[43mexc_tb\u001b[49m\u001b[43m,\u001b[49m\n\u001b[1;32m     73\u001b[0m \u001b[43m        \u001b[49m\u001b[43m)\u001b[49m\n\u001b[1;32m     74\u001b[0m \u001b[38;5;28;01melse\u001b[39;00m:\n",
      "File \u001b[0;32m/usr/local/lib/python3.11/site-packages/sqlalchemy/util/compat.py:211\u001b[0m, in \u001b[0;36mraise_\u001b[0;34m(***failed resolving arguments***)\u001b[0m\n\u001b[1;32m    210\u001b[0m \u001b[38;5;28;01mtry\u001b[39;00m:\n\u001b[0;32m--> 211\u001b[0m     \u001b[38;5;28;01mraise\u001b[39;00m exception\n\u001b[1;32m    212\u001b[0m \u001b[38;5;28;01mfinally\u001b[39;00m:\n\u001b[1;32m    213\u001b[0m     \u001b[38;5;66;03m# credit to\u001b[39;00m\n\u001b[1;32m    214\u001b[0m     \u001b[38;5;66;03m# https://cosmicpercolator.com/2016/01/13/exception-leaks-in-python-2-and-3/\u001b[39;00m\n\u001b[1;32m    215\u001b[0m     \u001b[38;5;66;03m# as the __traceback__ object creates a cycle\u001b[39;00m\n",
      "File \u001b[0;32m/usr/local/lib/python3.11/site-packages/sqlalchemy/pool/impl.py:142\u001b[0m, in \u001b[0;36mQueuePool._do_get\u001b[0;34m(self)\u001b[0m\n\u001b[1;32m    141\u001b[0m \u001b[38;5;28;01mtry\u001b[39;00m:\n\u001b[0;32m--> 142\u001b[0m     \u001b[38;5;28;01mreturn\u001b[39;00m \u001b[38;5;28;43mself\u001b[39;49m\u001b[38;5;241;43m.\u001b[39;49m\u001b[43m_create_connection\u001b[49m\u001b[43m(\u001b[49m\u001b[43m)\u001b[49m\n\u001b[1;32m    143\u001b[0m \u001b[38;5;28;01mexcept\u001b[39;00m:\n",
      "File \u001b[0;32m/usr/local/lib/python3.11/site-packages/sqlalchemy/pool/base.py:247\u001b[0m, in \u001b[0;36mPool._create_connection\u001b[0;34m(self)\u001b[0m\n\u001b[1;32m    245\u001b[0m \u001b[38;5;250m\u001b[39m\u001b[38;5;124;03m\"\"\"Called by subclasses to create a new ConnectionRecord.\"\"\"\u001b[39;00m\n\u001b[0;32m--> 247\u001b[0m \u001b[38;5;28;01mreturn\u001b[39;00m \u001b[43m_ConnectionRecord\u001b[49m\u001b[43m(\u001b[49m\u001b[38;5;28;43mself\u001b[39;49m\u001b[43m)\u001b[49m\n",
      "File \u001b[0;32m/usr/local/lib/python3.11/site-packages/sqlalchemy/pool/base.py:362\u001b[0m, in \u001b[0;36m_ConnectionRecord.__init__\u001b[0;34m(self, pool, connect)\u001b[0m\n\u001b[1;32m    361\u001b[0m \u001b[38;5;28;01mif\u001b[39;00m connect:\n\u001b[0;32m--> 362\u001b[0m     \u001b[38;5;28;43mself\u001b[39;49m\u001b[38;5;241;43m.\u001b[39;49m\u001b[43m__connect\u001b[49m\u001b[43m(\u001b[49m\u001b[43m)\u001b[49m\n\u001b[1;32m    363\u001b[0m \u001b[38;5;28mself\u001b[39m\u001b[38;5;241m.\u001b[39mfinalize_callback \u001b[38;5;241m=\u001b[39m deque()\n",
      "File \u001b[0;32m/usr/local/lib/python3.11/site-packages/sqlalchemy/pool/base.py:604\u001b[0m, in \u001b[0;36m_ConnectionRecord.__connect\u001b[0;34m(self)\u001b[0m\n\u001b[1;32m    603\u001b[0m \u001b[38;5;28;01mexcept\u001b[39;00m \u001b[38;5;167;01mException\u001b[39;00m \u001b[38;5;28;01mas\u001b[39;00m e:\n\u001b[0;32m--> 604\u001b[0m \u001b[43m    \u001b[49m\u001b[38;5;28;43;01mwith\u001b[39;49;00m\u001b[43m \u001b[49m\u001b[43mutil\u001b[49m\u001b[38;5;241;43m.\u001b[39;49m\u001b[43msafe_reraise\u001b[49m\u001b[43m(\u001b[49m\u001b[43m)\u001b[49m\u001b[43m:\u001b[49m\n\u001b[1;32m    605\u001b[0m \u001b[43m        \u001b[49m\u001b[43mpool\u001b[49m\u001b[38;5;241;43m.\u001b[39;49m\u001b[43mlogger\u001b[49m\u001b[38;5;241;43m.\u001b[39;49m\u001b[43mdebug\u001b[49m\u001b[43m(\u001b[49m\u001b[38;5;124;43m\"\u001b[39;49m\u001b[38;5;124;43mError on connect(): \u001b[39;49m\u001b[38;5;132;43;01m%s\u001b[39;49;00m\u001b[38;5;124;43m\"\u001b[39;49m\u001b[43m,\u001b[49m\u001b[43m \u001b[49m\u001b[43me\u001b[49m\u001b[43m)\u001b[49m\n",
      "File \u001b[0;32m/usr/local/lib/python3.11/site-packages/sqlalchemy/util/langhelpers.py:70\u001b[0m, in \u001b[0;36msafe_reraise.__exit__\u001b[0;34m(self, type_, value, traceback)\u001b[0m\n\u001b[1;32m     69\u001b[0m     \u001b[38;5;28;01mif\u001b[39;00m \u001b[38;5;129;01mnot\u001b[39;00m \u001b[38;5;28mself\u001b[39m\u001b[38;5;241m.\u001b[39mwarn_only:\n\u001b[0;32m---> 70\u001b[0m         \u001b[43mcompat\u001b[49m\u001b[38;5;241;43m.\u001b[39;49m\u001b[43mraise_\u001b[49m\u001b[43m(\u001b[49m\n\u001b[1;32m     71\u001b[0m \u001b[43m            \u001b[49m\u001b[43mexc_value\u001b[49m\u001b[43m,\u001b[49m\n\u001b[1;32m     72\u001b[0m \u001b[43m            \u001b[49m\u001b[43mwith_traceback\u001b[49m\u001b[38;5;241;43m=\u001b[39;49m\u001b[43mexc_tb\u001b[49m\u001b[43m,\u001b[49m\n\u001b[1;32m     73\u001b[0m \u001b[43m        \u001b[49m\u001b[43m)\u001b[49m\n\u001b[1;32m     74\u001b[0m \u001b[38;5;28;01melse\u001b[39;00m:\n",
      "File \u001b[0;32m/usr/local/lib/python3.11/site-packages/sqlalchemy/util/compat.py:211\u001b[0m, in \u001b[0;36mraise_\u001b[0;34m(***failed resolving arguments***)\u001b[0m\n\u001b[1;32m    210\u001b[0m \u001b[38;5;28;01mtry\u001b[39;00m:\n\u001b[0;32m--> 211\u001b[0m     \u001b[38;5;28;01mraise\u001b[39;00m exception\n\u001b[1;32m    212\u001b[0m \u001b[38;5;28;01mfinally\u001b[39;00m:\n\u001b[1;32m    213\u001b[0m     \u001b[38;5;66;03m# credit to\u001b[39;00m\n\u001b[1;32m    214\u001b[0m     \u001b[38;5;66;03m# https://cosmicpercolator.com/2016/01/13/exception-leaks-in-python-2-and-3/\u001b[39;00m\n\u001b[1;32m    215\u001b[0m     \u001b[38;5;66;03m# as the __traceback__ object creates a cycle\u001b[39;00m\n",
      "File \u001b[0;32m/usr/local/lib/python3.11/site-packages/sqlalchemy/pool/base.py:599\u001b[0m, in \u001b[0;36m_ConnectionRecord.__connect\u001b[0;34m(self)\u001b[0m\n\u001b[1;32m    598\u001b[0m \u001b[38;5;28mself\u001b[39m\u001b[38;5;241m.\u001b[39mstarttime \u001b[38;5;241m=\u001b[39m time\u001b[38;5;241m.\u001b[39mtime()\n\u001b[0;32m--> 599\u001b[0m connection \u001b[38;5;241m=\u001b[39m \u001b[43mpool\u001b[49m\u001b[38;5;241;43m.\u001b[39;49m\u001b[43m_invoke_creator\u001b[49m\u001b[43m(\u001b[49m\u001b[38;5;28;43mself\u001b[39;49m\u001b[43m)\u001b[49m\n\u001b[1;32m    600\u001b[0m pool\u001b[38;5;241m.\u001b[39mlogger\u001b[38;5;241m.\u001b[39mdebug(\u001b[38;5;124m\"\u001b[39m\u001b[38;5;124mCreated new connection \u001b[39m\u001b[38;5;132;01m%r\u001b[39;00m\u001b[38;5;124m\"\u001b[39m, connection)\n",
      "File \u001b[0;32m/usr/local/lib/python3.11/site-packages/sqlalchemy/engine/create.py:578\u001b[0m, in \u001b[0;36mcreate_engine.<locals>.connect\u001b[0;34m(connection_record)\u001b[0m\n\u001b[1;32m    577\u001b[0m             \u001b[38;5;28;01mreturn\u001b[39;00m connection\n\u001b[0;32m--> 578\u001b[0m \u001b[38;5;28;01mreturn\u001b[39;00m \u001b[43mdialect\u001b[49m\u001b[38;5;241;43m.\u001b[39;49m\u001b[43mconnect\u001b[49m\u001b[43m(\u001b[49m\u001b[38;5;241;43m*\u001b[39;49m\u001b[43mcargs\u001b[49m\u001b[43m,\u001b[49m\u001b[43m \u001b[49m\u001b[38;5;241;43m*\u001b[39;49m\u001b[38;5;241;43m*\u001b[39;49m\u001b[43mcparams\u001b[49m\u001b[43m)\u001b[49m\n",
      "File \u001b[0;32m/usr/local/lib/python3.11/site-packages/sqlalchemy/engine/default.py:584\u001b[0m, in \u001b[0;36mDefaultDialect.connect\u001b[0;34m(self, *cargs, **cparams)\u001b[0m\n\u001b[1;32m    582\u001b[0m \u001b[38;5;28;01mdef\u001b[39;00m \u001b[38;5;21mconnect\u001b[39m(\u001b[38;5;28mself\u001b[39m, \u001b[38;5;241m*\u001b[39mcargs, \u001b[38;5;241m*\u001b[39m\u001b[38;5;241m*\u001b[39mcparams):\n\u001b[1;32m    583\u001b[0m     \u001b[38;5;66;03m# inherits the docstring from interfaces.Dialect.connect\u001b[39;00m\n\u001b[0;32m--> 584\u001b[0m     \u001b[38;5;28;01mreturn\u001b[39;00m \u001b[38;5;28;43mself\u001b[39;49m\u001b[38;5;241;43m.\u001b[39;49m\u001b[43mdbapi\u001b[49m\u001b[38;5;241;43m.\u001b[39;49m\u001b[43mconnect\u001b[49m\u001b[43m(\u001b[49m\u001b[38;5;241;43m*\u001b[39;49m\u001b[43mcargs\u001b[49m\u001b[43m,\u001b[49m\u001b[43m \u001b[49m\u001b[38;5;241;43m*\u001b[39;49m\u001b[38;5;241;43m*\u001b[39;49m\u001b[43mcparams\u001b[49m\u001b[43m)\u001b[49m\n",
      "File \u001b[0;32m/usr/local/lib/python3.11/site-packages/psycopg2/__init__.py:122\u001b[0m, in \u001b[0;36mconnect\u001b[0;34m(dsn, connection_factory, cursor_factory, **kwargs)\u001b[0m\n\u001b[1;32m    121\u001b[0m dsn \u001b[38;5;241m=\u001b[39m _ext\u001b[38;5;241m.\u001b[39mmake_dsn(dsn, \u001b[38;5;241m*\u001b[39m\u001b[38;5;241m*\u001b[39mkwargs)\n\u001b[0;32m--> 122\u001b[0m conn \u001b[38;5;241m=\u001b[39m \u001b[43m_connect\u001b[49m\u001b[43m(\u001b[49m\u001b[43mdsn\u001b[49m\u001b[43m,\u001b[49m\u001b[43m \u001b[49m\u001b[43mconnection_factory\u001b[49m\u001b[38;5;241;43m=\u001b[39;49m\u001b[43mconnection_factory\u001b[49m\u001b[43m,\u001b[49m\u001b[43m \u001b[49m\u001b[38;5;241;43m*\u001b[39;49m\u001b[38;5;241;43m*\u001b[39;49m\u001b[43mkwasync\u001b[49m\u001b[43m)\u001b[49m\n\u001b[1;32m    123\u001b[0m \u001b[38;5;28;01mif\u001b[39;00m cursor_factory \u001b[38;5;129;01mis\u001b[39;00m \u001b[38;5;129;01mnot\u001b[39;00m \u001b[38;5;28;01mNone\u001b[39;00m:\n",
      "\u001b[0;31mOperationalError\u001b[0m: connection to server at \"pg_container\" (172.20.0.3), port 5432 failed: FATAL:  password authentication failed for user \"postgres\"\n",
      "\nThe above exception was the direct cause of the following exception:\n",
      "\u001b[0;31mOperationalError\u001b[0m                          Traceback (most recent call last)",
      "Cell \u001b[0;32mIn[12], line 1\u001b[0m\n\u001b[0;32m----> 1\u001b[0m \u001b[43mengine\u001b[49m\u001b[38;5;241;43m.\u001b[39;49m\u001b[43mexecute\u001b[49m\u001b[43m(\u001b[49m\u001b[38;5;124;43m\"\u001b[39;49m\u001b[38;5;124;43mSELECT * FROM customers LIMIT 2;\u001b[39;49m\u001b[38;5;124;43m\"\u001b[39;49m\u001b[43m)\u001b[49m\u001b[38;5;241m.\u001b[39mfetchall()\n",
      "File \u001b[0;32m<string>:2\u001b[0m, in \u001b[0;36mexecute\u001b[0;34m(self, statement, *multiparams, **params)\u001b[0m\n",
      "File \u001b[0;32m/usr/local/lib/python3.11/site-packages/sqlalchemy/util/deprecations.py:390\u001b[0m, in \u001b[0;36m_decorate_with_warning.<locals>.warned\u001b[0;34m(fn, *args, **kwargs)\u001b[0m\n\u001b[1;32m    388\u001b[0m \u001b[38;5;28;01mif\u001b[39;00m \u001b[38;5;129;01mnot\u001b[39;00m skip_warning:\n\u001b[1;32m    389\u001b[0m     _warn_with_version(message, version, wtype, stacklevel\u001b[38;5;241m=\u001b[39m\u001b[38;5;241m3\u001b[39m)\n\u001b[0;32m--> 390\u001b[0m \u001b[38;5;28;01mreturn\u001b[39;00m \u001b[43mfn\u001b[49m\u001b[43m(\u001b[49m\u001b[38;5;241;43m*\u001b[39;49m\u001b[43margs\u001b[49m\u001b[43m,\u001b[49m\u001b[43m \u001b[49m\u001b[38;5;241;43m*\u001b[39;49m\u001b[38;5;241;43m*\u001b[39;49m\u001b[43mkwargs\u001b[49m\u001b[43m)\u001b[49m\n",
      "File \u001b[0;32m/usr/local/lib/python3.11/site-packages/sqlalchemy/engine/base.py:3107\u001b[0m, in \u001b[0;36mEngine.execute\u001b[0;34m(self, statement, *multiparams, **params)\u001b[0m\n\u001b[1;32m   3081\u001b[0m \u001b[38;5;129m@util\u001b[39m\u001b[38;5;241m.\u001b[39mdeprecated_20(\n\u001b[1;32m   3082\u001b[0m     \u001b[38;5;124m\"\u001b[39m\u001b[38;5;124m:meth:`_engine.Engine.execute`\u001b[39m\u001b[38;5;124m\"\u001b[39m,\n\u001b[1;32m   3083\u001b[0m     alternative\u001b[38;5;241m=\u001b[39m\u001b[38;5;124m\"\u001b[39m\u001b[38;5;124mAll statement execution in SQLAlchemy 2.0 is performed \u001b[39m\u001b[38;5;124m\"\u001b[39m\n\u001b[0;32m   (...)\u001b[0m\n\u001b[1;32m   3088\u001b[0m )\n\u001b[1;32m   3089\u001b[0m \u001b[38;5;28;01mdef\u001b[39;00m \u001b[38;5;21mexecute\u001b[39m(\u001b[38;5;28mself\u001b[39m, statement, \u001b[38;5;241m*\u001b[39mmultiparams, \u001b[38;5;241m*\u001b[39m\u001b[38;5;241m*\u001b[39mparams):\n\u001b[1;32m   3090\u001b[0m \u001b[38;5;250m    \u001b[39m\u001b[38;5;124;03m\"\"\"Executes the given construct and returns a\u001b[39;00m\n\u001b[1;32m   3091\u001b[0m \u001b[38;5;124;03m    :class:`_engine.CursorResult`.\u001b[39;00m\n\u001b[1;32m   3092\u001b[0m \n\u001b[0;32m   (...)\u001b[0m\n\u001b[1;32m   3105\u001b[0m \n\u001b[1;32m   3106\u001b[0m \u001b[38;5;124;03m    \"\"\"\u001b[39;00m\n\u001b[0;32m-> 3107\u001b[0m     connection \u001b[38;5;241m=\u001b[39m \u001b[38;5;28;43mself\u001b[39;49m\u001b[38;5;241;43m.\u001b[39;49m\u001b[43mconnect\u001b[49m\u001b[43m(\u001b[49m\u001b[43mclose_with_result\u001b[49m\u001b[38;5;241;43m=\u001b[39;49m\u001b[38;5;28;43;01mTrue\u001b[39;49;00m\u001b[43m)\u001b[49m\n\u001b[1;32m   3108\u001b[0m     \u001b[38;5;28;01mreturn\u001b[39;00m connection\u001b[38;5;241m.\u001b[39mexecute(statement, \u001b[38;5;241m*\u001b[39mmultiparams, \u001b[38;5;241m*\u001b[39m\u001b[38;5;241m*\u001b[39mparams)\n",
      "File \u001b[0;32m/usr/local/lib/python3.11/site-packages/sqlalchemy/engine/base.py:3166\u001b[0m, in \u001b[0;36mEngine.connect\u001b[0;34m(self, close_with_result)\u001b[0m\n\u001b[1;32m   3151\u001b[0m \u001b[38;5;28;01mdef\u001b[39;00m \u001b[38;5;21mconnect\u001b[39m(\u001b[38;5;28mself\u001b[39m, close_with_result\u001b[38;5;241m=\u001b[39m\u001b[38;5;28;01mFalse\u001b[39;00m):\n\u001b[1;32m   3152\u001b[0m \u001b[38;5;250m    \u001b[39m\u001b[38;5;124;03m\"\"\"Return a new :class:`_engine.Connection` object.\u001b[39;00m\n\u001b[1;32m   3153\u001b[0m \n\u001b[1;32m   3154\u001b[0m \u001b[38;5;124;03m    The :class:`_engine.Connection` object is a facade that uses a DBAPI\u001b[39;00m\n\u001b[0;32m   (...)\u001b[0m\n\u001b[1;32m   3163\u001b[0m \n\u001b[1;32m   3164\u001b[0m \u001b[38;5;124;03m    \"\"\"\u001b[39;00m\n\u001b[0;32m-> 3166\u001b[0m     \u001b[38;5;28;01mreturn\u001b[39;00m \u001b[38;5;28;43mself\u001b[39;49m\u001b[38;5;241;43m.\u001b[39;49m\u001b[43m_connection_cls\u001b[49m\u001b[43m(\u001b[49m\u001b[38;5;28;43mself\u001b[39;49m\u001b[43m,\u001b[49m\u001b[43m \u001b[49m\u001b[43mclose_with_result\u001b[49m\u001b[38;5;241;43m=\u001b[39;49m\u001b[43mclose_with_result\u001b[49m\u001b[43m)\u001b[49m\n",
      "File \u001b[0;32m/usr/local/lib/python3.11/site-packages/sqlalchemy/engine/base.py:96\u001b[0m, in \u001b[0;36mConnection.__init__\u001b[0;34m(self, engine, connection, close_with_result, _branch_from, _execution_options, _dispatch, _has_events, _allow_revalidate)\u001b[0m\n\u001b[1;32m     91\u001b[0m     \u001b[38;5;28mself\u001b[39m\u001b[38;5;241m.\u001b[39m_has_events \u001b[38;5;241m=\u001b[39m _branch_from\u001b[38;5;241m.\u001b[39m_has_events\n\u001b[1;32m     92\u001b[0m \u001b[38;5;28;01melse\u001b[39;00m:\n\u001b[1;32m     93\u001b[0m     \u001b[38;5;28mself\u001b[39m\u001b[38;5;241m.\u001b[39m_dbapi_connection \u001b[38;5;241m=\u001b[39m (\n\u001b[1;32m     94\u001b[0m         connection\n\u001b[1;32m     95\u001b[0m         \u001b[38;5;28;01mif\u001b[39;00m connection \u001b[38;5;129;01mis\u001b[39;00m \u001b[38;5;129;01mnot\u001b[39;00m \u001b[38;5;28;01mNone\u001b[39;00m\n\u001b[0;32m---> 96\u001b[0m         \u001b[38;5;28;01melse\u001b[39;00m \u001b[43mengine\u001b[49m\u001b[38;5;241;43m.\u001b[39;49m\u001b[43mraw_connection\u001b[49m\u001b[43m(\u001b[49m\u001b[43m)\u001b[49m\n\u001b[1;32m     97\u001b[0m     )\n\u001b[1;32m     99\u001b[0m     \u001b[38;5;28mself\u001b[39m\u001b[38;5;241m.\u001b[39m_transaction \u001b[38;5;241m=\u001b[39m \u001b[38;5;28mself\u001b[39m\u001b[38;5;241m.\u001b[39m_nested_transaction \u001b[38;5;241m=\u001b[39m \u001b[38;5;28;01mNone\u001b[39;00m\n\u001b[1;32m    100\u001b[0m     \u001b[38;5;28mself\u001b[39m\u001b[38;5;241m.\u001b[39m__savepoint_seq \u001b[38;5;241m=\u001b[39m \u001b[38;5;241m0\u001b[39m\n",
      "File \u001b[0;32m/usr/local/lib/python3.11/site-packages/sqlalchemy/engine/base.py:3245\u001b[0m, in \u001b[0;36mEngine.raw_connection\u001b[0;34m(self, _connection)\u001b[0m\n\u001b[1;32m   3223\u001b[0m \u001b[38;5;28;01mdef\u001b[39;00m \u001b[38;5;21mraw_connection\u001b[39m(\u001b[38;5;28mself\u001b[39m, _connection\u001b[38;5;241m=\u001b[39m\u001b[38;5;28;01mNone\u001b[39;00m):\n\u001b[1;32m   3224\u001b[0m \u001b[38;5;250m    \u001b[39m\u001b[38;5;124;03m\"\"\"Return a \"raw\" DBAPI connection from the connection pool.\u001b[39;00m\n\u001b[1;32m   3225\u001b[0m \n\u001b[1;32m   3226\u001b[0m \u001b[38;5;124;03m    The returned object is a proxied version of the DBAPI\u001b[39;00m\n\u001b[0;32m   (...)\u001b[0m\n\u001b[1;32m   3243\u001b[0m \n\u001b[1;32m   3244\u001b[0m \u001b[38;5;124;03m    \"\"\"\u001b[39;00m\n\u001b[0;32m-> 3245\u001b[0m     \u001b[38;5;28;01mreturn\u001b[39;00m \u001b[38;5;28;43mself\u001b[39;49m\u001b[38;5;241;43m.\u001b[39;49m\u001b[43m_wrap_pool_connect\u001b[49m\u001b[43m(\u001b[49m\u001b[38;5;28;43mself\u001b[39;49m\u001b[38;5;241;43m.\u001b[39;49m\u001b[43mpool\u001b[49m\u001b[38;5;241;43m.\u001b[39;49m\u001b[43mconnect\u001b[49m\u001b[43m,\u001b[49m\u001b[43m \u001b[49m\u001b[43m_connection\u001b[49m\u001b[43m)\u001b[49m\n",
      "File \u001b[0;32m/usr/local/lib/python3.11/site-packages/sqlalchemy/engine/base.py:3215\u001b[0m, in \u001b[0;36mEngine._wrap_pool_connect\u001b[0;34m(self, fn, connection)\u001b[0m\n\u001b[1;32m   3213\u001b[0m \u001b[38;5;28;01mexcept\u001b[39;00m dialect\u001b[38;5;241m.\u001b[39mdbapi\u001b[38;5;241m.\u001b[39mError \u001b[38;5;28;01mas\u001b[39;00m e:\n\u001b[1;32m   3214\u001b[0m     \u001b[38;5;28;01mif\u001b[39;00m connection \u001b[38;5;129;01mis\u001b[39;00m \u001b[38;5;28;01mNone\u001b[39;00m:\n\u001b[0;32m-> 3215\u001b[0m         \u001b[43mConnection\u001b[49m\u001b[38;5;241;43m.\u001b[39;49m\u001b[43m_handle_dbapi_exception_noconnection\u001b[49m\u001b[43m(\u001b[49m\n\u001b[1;32m   3216\u001b[0m \u001b[43m            \u001b[49m\u001b[43me\u001b[49m\u001b[43m,\u001b[49m\u001b[43m \u001b[49m\u001b[43mdialect\u001b[49m\u001b[43m,\u001b[49m\u001b[43m \u001b[49m\u001b[38;5;28;43mself\u001b[39;49m\n\u001b[1;32m   3217\u001b[0m \u001b[43m        \u001b[49m\u001b[43m)\u001b[49m\n\u001b[1;32m   3218\u001b[0m     \u001b[38;5;28;01melse\u001b[39;00m:\n\u001b[1;32m   3219\u001b[0m         util\u001b[38;5;241m.\u001b[39mraise_(\n\u001b[1;32m   3220\u001b[0m             sys\u001b[38;5;241m.\u001b[39mexc_info()[\u001b[38;5;241m1\u001b[39m], with_traceback\u001b[38;5;241m=\u001b[39msys\u001b[38;5;241m.\u001b[39mexc_info()[\u001b[38;5;241m2\u001b[39m]\n\u001b[1;32m   3221\u001b[0m         )\n",
      "File \u001b[0;32m/usr/local/lib/python3.11/site-packages/sqlalchemy/engine/base.py:2068\u001b[0m, in \u001b[0;36mConnection._handle_dbapi_exception_noconnection\u001b[0;34m(cls, e, dialect, engine)\u001b[0m\n\u001b[1;32m   2066\u001b[0m     util\u001b[38;5;241m.\u001b[39mraise_(newraise, with_traceback\u001b[38;5;241m=\u001b[39mexc_info[\u001b[38;5;241m2\u001b[39m], from_\u001b[38;5;241m=\u001b[39me)\n\u001b[1;32m   2067\u001b[0m \u001b[38;5;28;01melif\u001b[39;00m should_wrap:\n\u001b[0;32m-> 2068\u001b[0m     \u001b[43mutil\u001b[49m\u001b[38;5;241;43m.\u001b[39;49m\u001b[43mraise_\u001b[49m\u001b[43m(\u001b[49m\n\u001b[1;32m   2069\u001b[0m \u001b[43m        \u001b[49m\u001b[43msqlalchemy_exception\u001b[49m\u001b[43m,\u001b[49m\u001b[43m \u001b[49m\u001b[43mwith_traceback\u001b[49m\u001b[38;5;241;43m=\u001b[39;49m\u001b[43mexc_info\u001b[49m\u001b[43m[\u001b[49m\u001b[38;5;241;43m2\u001b[39;49m\u001b[43m]\u001b[49m\u001b[43m,\u001b[49m\u001b[43m \u001b[49m\u001b[43mfrom_\u001b[49m\u001b[38;5;241;43m=\u001b[39;49m\u001b[43me\u001b[49m\n\u001b[1;32m   2070\u001b[0m \u001b[43m    \u001b[49m\u001b[43m)\u001b[49m\n\u001b[1;32m   2071\u001b[0m \u001b[38;5;28;01melse\u001b[39;00m:\n\u001b[1;32m   2072\u001b[0m     util\u001b[38;5;241m.\u001b[39mraise_(exc_info[\u001b[38;5;241m1\u001b[39m], with_traceback\u001b[38;5;241m=\u001b[39mexc_info[\u001b[38;5;241m2\u001b[39m])\n",
      "File \u001b[0;32m/usr/local/lib/python3.11/site-packages/sqlalchemy/util/compat.py:211\u001b[0m, in \u001b[0;36mraise_\u001b[0;34m(***failed resolving arguments***)\u001b[0m\n\u001b[1;32m    208\u001b[0m     exception\u001b[38;5;241m.\u001b[39m__cause__ \u001b[38;5;241m=\u001b[39m replace_context\n\u001b[1;32m    210\u001b[0m \u001b[38;5;28;01mtry\u001b[39;00m:\n\u001b[0;32m--> 211\u001b[0m     \u001b[38;5;28;01mraise\u001b[39;00m exception\n\u001b[1;32m    212\u001b[0m \u001b[38;5;28;01mfinally\u001b[39;00m:\n\u001b[1;32m    213\u001b[0m     \u001b[38;5;66;03m# credit to\u001b[39;00m\n\u001b[1;32m    214\u001b[0m     \u001b[38;5;66;03m# https://cosmicpercolator.com/2016/01/13/exception-leaks-in-python-2-and-3/\u001b[39;00m\n\u001b[1;32m    215\u001b[0m     \u001b[38;5;66;03m# as the __traceback__ object creates a cycle\u001b[39;00m\n\u001b[1;32m    216\u001b[0m     \u001b[38;5;28;01mdel\u001b[39;00m exception, replace_context, from_, with_traceback\n",
      "File \u001b[0;32m/usr/local/lib/python3.11/site-packages/sqlalchemy/engine/base.py:3212\u001b[0m, in \u001b[0;36mEngine._wrap_pool_connect\u001b[0;34m(self, fn, connection)\u001b[0m\n\u001b[1;32m   3210\u001b[0m dialect \u001b[38;5;241m=\u001b[39m \u001b[38;5;28mself\u001b[39m\u001b[38;5;241m.\u001b[39mdialect\n\u001b[1;32m   3211\u001b[0m \u001b[38;5;28;01mtry\u001b[39;00m:\n\u001b[0;32m-> 3212\u001b[0m     \u001b[38;5;28;01mreturn\u001b[39;00m \u001b[43mfn\u001b[49m\u001b[43m(\u001b[49m\u001b[43m)\u001b[49m\n\u001b[1;32m   3213\u001b[0m \u001b[38;5;28;01mexcept\u001b[39;00m dialect\u001b[38;5;241m.\u001b[39mdbapi\u001b[38;5;241m.\u001b[39mError \u001b[38;5;28;01mas\u001b[39;00m e:\n\u001b[1;32m   3214\u001b[0m     \u001b[38;5;28;01mif\u001b[39;00m connection \u001b[38;5;129;01mis\u001b[39;00m \u001b[38;5;28;01mNone\u001b[39;00m:\n",
      "File \u001b[0;32m/usr/local/lib/python3.11/site-packages/sqlalchemy/pool/base.py:301\u001b[0m, in \u001b[0;36mPool.connect\u001b[0;34m(self)\u001b[0m\n\u001b[1;32m    293\u001b[0m \u001b[38;5;28;01mdef\u001b[39;00m \u001b[38;5;21mconnect\u001b[39m(\u001b[38;5;28mself\u001b[39m):\n\u001b[1;32m    294\u001b[0m \u001b[38;5;250m    \u001b[39m\u001b[38;5;124;03m\"\"\"Return a DBAPI connection from the pool.\u001b[39;00m\n\u001b[1;32m    295\u001b[0m \n\u001b[1;32m    296\u001b[0m \u001b[38;5;124;03m    The connection is instrumented such that when its\u001b[39;00m\n\u001b[0;32m   (...)\u001b[0m\n\u001b[1;32m    299\u001b[0m \n\u001b[1;32m    300\u001b[0m \u001b[38;5;124;03m    \"\"\"\u001b[39;00m\n\u001b[0;32m--> 301\u001b[0m     \u001b[38;5;28;01mreturn\u001b[39;00m \u001b[43m_ConnectionFairy\u001b[49m\u001b[38;5;241;43m.\u001b[39;49m\u001b[43m_checkout\u001b[49m\u001b[43m(\u001b[49m\u001b[38;5;28;43mself\u001b[39;49m\u001b[43m)\u001b[49m\n",
      "File \u001b[0;32m/usr/local/lib/python3.11/site-packages/sqlalchemy/pool/base.py:761\u001b[0m, in \u001b[0;36m_ConnectionFairy._checkout\u001b[0;34m(cls, pool, threadconns, fairy)\u001b[0m\n\u001b[1;32m    758\u001b[0m \u001b[38;5;129m@classmethod\u001b[39m\n\u001b[1;32m    759\u001b[0m \u001b[38;5;28;01mdef\u001b[39;00m \u001b[38;5;21m_checkout\u001b[39m(\u001b[38;5;28mcls\u001b[39m, pool, threadconns\u001b[38;5;241m=\u001b[39m\u001b[38;5;28;01mNone\u001b[39;00m, fairy\u001b[38;5;241m=\u001b[39m\u001b[38;5;28;01mNone\u001b[39;00m):\n\u001b[1;32m    760\u001b[0m     \u001b[38;5;28;01mif\u001b[39;00m \u001b[38;5;129;01mnot\u001b[39;00m fairy:\n\u001b[0;32m--> 761\u001b[0m         fairy \u001b[38;5;241m=\u001b[39m \u001b[43m_ConnectionRecord\u001b[49m\u001b[38;5;241;43m.\u001b[39;49m\u001b[43mcheckout\u001b[49m\u001b[43m(\u001b[49m\u001b[43mpool\u001b[49m\u001b[43m)\u001b[49m\n\u001b[1;32m    763\u001b[0m         fairy\u001b[38;5;241m.\u001b[39m_pool \u001b[38;5;241m=\u001b[39m pool\n\u001b[1;32m    764\u001b[0m         fairy\u001b[38;5;241m.\u001b[39m_counter \u001b[38;5;241m=\u001b[39m \u001b[38;5;241m0\u001b[39m\n",
      "File \u001b[0;32m/usr/local/lib/python3.11/site-packages/sqlalchemy/pool/base.py:419\u001b[0m, in \u001b[0;36m_ConnectionRecord.checkout\u001b[0;34m(cls, pool)\u001b[0m\n\u001b[1;32m    417\u001b[0m \u001b[38;5;129m@classmethod\u001b[39m\n\u001b[1;32m    418\u001b[0m \u001b[38;5;28;01mdef\u001b[39;00m \u001b[38;5;21mcheckout\u001b[39m(\u001b[38;5;28mcls\u001b[39m, pool):\n\u001b[0;32m--> 419\u001b[0m     rec \u001b[38;5;241m=\u001b[39m \u001b[43mpool\u001b[49m\u001b[38;5;241;43m.\u001b[39;49m\u001b[43m_do_get\u001b[49m\u001b[43m(\u001b[49m\u001b[43m)\u001b[49m\n\u001b[1;32m    420\u001b[0m     \u001b[38;5;28;01mtry\u001b[39;00m:\n\u001b[1;32m    421\u001b[0m         dbapi_connection \u001b[38;5;241m=\u001b[39m rec\u001b[38;5;241m.\u001b[39mget_connection()\n",
      "File \u001b[0;32m/usr/local/lib/python3.11/site-packages/sqlalchemy/pool/impl.py:144\u001b[0m, in \u001b[0;36mQueuePool._do_get\u001b[0;34m(self)\u001b[0m\n\u001b[1;32m    142\u001b[0m         \u001b[38;5;28;01mreturn\u001b[39;00m \u001b[38;5;28mself\u001b[39m\u001b[38;5;241m.\u001b[39m_create_connection()\n\u001b[1;32m    143\u001b[0m     \u001b[38;5;28;01mexcept\u001b[39;00m:\n\u001b[0;32m--> 144\u001b[0m \u001b[43m        \u001b[49m\u001b[38;5;28;43;01mwith\u001b[39;49;00m\u001b[43m \u001b[49m\u001b[43mutil\u001b[49m\u001b[38;5;241;43m.\u001b[39;49m\u001b[43msafe_reraise\u001b[49m\u001b[43m(\u001b[49m\u001b[43m)\u001b[49m\u001b[43m:\u001b[49m\n\u001b[1;32m    145\u001b[0m \u001b[43m            \u001b[49m\u001b[38;5;28;43mself\u001b[39;49m\u001b[38;5;241;43m.\u001b[39;49m\u001b[43m_dec_overflow\u001b[49m\u001b[43m(\u001b[49m\u001b[43m)\u001b[49m\n\u001b[1;32m    146\u001b[0m \u001b[38;5;28;01melse\u001b[39;00m:\n",
      "File \u001b[0;32m/usr/local/lib/python3.11/site-packages/sqlalchemy/util/langhelpers.py:70\u001b[0m, in \u001b[0;36msafe_reraise.__exit__\u001b[0;34m(self, type_, value, traceback)\u001b[0m\n\u001b[1;32m     68\u001b[0m     \u001b[38;5;28mself\u001b[39m\u001b[38;5;241m.\u001b[39m_exc_info \u001b[38;5;241m=\u001b[39m \u001b[38;5;28;01mNone\u001b[39;00m  \u001b[38;5;66;03m# remove potential circular references\u001b[39;00m\n\u001b[1;32m     69\u001b[0m     \u001b[38;5;28;01mif\u001b[39;00m \u001b[38;5;129;01mnot\u001b[39;00m \u001b[38;5;28mself\u001b[39m\u001b[38;5;241m.\u001b[39mwarn_only:\n\u001b[0;32m---> 70\u001b[0m         \u001b[43mcompat\u001b[49m\u001b[38;5;241;43m.\u001b[39;49m\u001b[43mraise_\u001b[49m\u001b[43m(\u001b[49m\n\u001b[1;32m     71\u001b[0m \u001b[43m            \u001b[49m\u001b[43mexc_value\u001b[49m\u001b[43m,\u001b[49m\n\u001b[1;32m     72\u001b[0m \u001b[43m            \u001b[49m\u001b[43mwith_traceback\u001b[49m\u001b[38;5;241;43m=\u001b[39;49m\u001b[43mexc_tb\u001b[49m\u001b[43m,\u001b[49m\n\u001b[1;32m     73\u001b[0m \u001b[43m        \u001b[49m\u001b[43m)\u001b[49m\n\u001b[1;32m     74\u001b[0m \u001b[38;5;28;01melse\u001b[39;00m:\n\u001b[1;32m     75\u001b[0m     \u001b[38;5;28;01mif\u001b[39;00m \u001b[38;5;129;01mnot\u001b[39;00m compat\u001b[38;5;241m.\u001b[39mpy3k \u001b[38;5;129;01mand\u001b[39;00m \u001b[38;5;28mself\u001b[39m\u001b[38;5;241m.\u001b[39m_exc_info \u001b[38;5;129;01mand\u001b[39;00m \u001b[38;5;28mself\u001b[39m\u001b[38;5;241m.\u001b[39m_exc_info[\u001b[38;5;241m1\u001b[39m]:\n\u001b[1;32m     76\u001b[0m         \u001b[38;5;66;03m# emulate Py3K's behavior of telling us when an exception\u001b[39;00m\n\u001b[1;32m     77\u001b[0m         \u001b[38;5;66;03m# occurs in an exception handler.\u001b[39;00m\n",
      "File \u001b[0;32m/usr/local/lib/python3.11/site-packages/sqlalchemy/util/compat.py:211\u001b[0m, in \u001b[0;36mraise_\u001b[0;34m(***failed resolving arguments***)\u001b[0m\n\u001b[1;32m    208\u001b[0m     exception\u001b[38;5;241m.\u001b[39m__cause__ \u001b[38;5;241m=\u001b[39m replace_context\n\u001b[1;32m    210\u001b[0m \u001b[38;5;28;01mtry\u001b[39;00m:\n\u001b[0;32m--> 211\u001b[0m     \u001b[38;5;28;01mraise\u001b[39;00m exception\n\u001b[1;32m    212\u001b[0m \u001b[38;5;28;01mfinally\u001b[39;00m:\n\u001b[1;32m    213\u001b[0m     \u001b[38;5;66;03m# credit to\u001b[39;00m\n\u001b[1;32m    214\u001b[0m     \u001b[38;5;66;03m# https://cosmicpercolator.com/2016/01/13/exception-leaks-in-python-2-and-3/\u001b[39;00m\n\u001b[1;32m    215\u001b[0m     \u001b[38;5;66;03m# as the __traceback__ object creates a cycle\u001b[39;00m\n\u001b[1;32m    216\u001b[0m     \u001b[38;5;28;01mdel\u001b[39;00m exception, replace_context, from_, with_traceback\n",
      "File \u001b[0;32m/usr/local/lib/python3.11/site-packages/sqlalchemy/pool/impl.py:142\u001b[0m, in \u001b[0;36mQueuePool._do_get\u001b[0;34m(self)\u001b[0m\n\u001b[1;32m    140\u001b[0m \u001b[38;5;28;01mif\u001b[39;00m \u001b[38;5;28mself\u001b[39m\u001b[38;5;241m.\u001b[39m_inc_overflow():\n\u001b[1;32m    141\u001b[0m     \u001b[38;5;28;01mtry\u001b[39;00m:\n\u001b[0;32m--> 142\u001b[0m         \u001b[38;5;28;01mreturn\u001b[39;00m \u001b[38;5;28;43mself\u001b[39;49m\u001b[38;5;241;43m.\u001b[39;49m\u001b[43m_create_connection\u001b[49m\u001b[43m(\u001b[49m\u001b[43m)\u001b[49m\n\u001b[1;32m    143\u001b[0m     \u001b[38;5;28;01mexcept\u001b[39;00m:\n\u001b[1;32m    144\u001b[0m         \u001b[38;5;28;01mwith\u001b[39;00m util\u001b[38;5;241m.\u001b[39msafe_reraise():\n",
      "File \u001b[0;32m/usr/local/lib/python3.11/site-packages/sqlalchemy/pool/base.py:247\u001b[0m, in \u001b[0;36mPool._create_connection\u001b[0;34m(self)\u001b[0m\n\u001b[1;32m    244\u001b[0m \u001b[38;5;28;01mdef\u001b[39;00m \u001b[38;5;21m_create_connection\u001b[39m(\u001b[38;5;28mself\u001b[39m):\n\u001b[1;32m    245\u001b[0m \u001b[38;5;250m    \u001b[39m\u001b[38;5;124;03m\"\"\"Called by subclasses to create a new ConnectionRecord.\"\"\"\u001b[39;00m\n\u001b[0;32m--> 247\u001b[0m     \u001b[38;5;28;01mreturn\u001b[39;00m \u001b[43m_ConnectionRecord\u001b[49m\u001b[43m(\u001b[49m\u001b[38;5;28;43mself\u001b[39;49m\u001b[43m)\u001b[49m\n",
      "File \u001b[0;32m/usr/local/lib/python3.11/site-packages/sqlalchemy/pool/base.py:362\u001b[0m, in \u001b[0;36m_ConnectionRecord.__init__\u001b[0;34m(self, pool, connect)\u001b[0m\n\u001b[1;32m    360\u001b[0m \u001b[38;5;28mself\u001b[39m\u001b[38;5;241m.\u001b[39m__pool \u001b[38;5;241m=\u001b[39m pool\n\u001b[1;32m    361\u001b[0m \u001b[38;5;28;01mif\u001b[39;00m connect:\n\u001b[0;32m--> 362\u001b[0m     \u001b[38;5;28;43mself\u001b[39;49m\u001b[38;5;241;43m.\u001b[39;49m\u001b[43m__connect\u001b[49m\u001b[43m(\u001b[49m\u001b[43m)\u001b[49m\n\u001b[1;32m    363\u001b[0m \u001b[38;5;28mself\u001b[39m\u001b[38;5;241m.\u001b[39mfinalize_callback \u001b[38;5;241m=\u001b[39m deque()\n",
      "File \u001b[0;32m/usr/local/lib/python3.11/site-packages/sqlalchemy/pool/base.py:604\u001b[0m, in \u001b[0;36m_ConnectionRecord.__connect\u001b[0;34m(self)\u001b[0m\n\u001b[1;32m    602\u001b[0m     \u001b[38;5;28mself\u001b[39m\u001b[38;5;241m.\u001b[39mfresh \u001b[38;5;241m=\u001b[39m \u001b[38;5;28;01mTrue\u001b[39;00m\n\u001b[1;32m    603\u001b[0m \u001b[38;5;28;01mexcept\u001b[39;00m \u001b[38;5;167;01mException\u001b[39;00m \u001b[38;5;28;01mas\u001b[39;00m e:\n\u001b[0;32m--> 604\u001b[0m \u001b[43m    \u001b[49m\u001b[38;5;28;43;01mwith\u001b[39;49;00m\u001b[43m \u001b[49m\u001b[43mutil\u001b[49m\u001b[38;5;241;43m.\u001b[39;49m\u001b[43msafe_reraise\u001b[49m\u001b[43m(\u001b[49m\u001b[43m)\u001b[49m\u001b[43m:\u001b[49m\n\u001b[1;32m    605\u001b[0m \u001b[43m        \u001b[49m\u001b[43mpool\u001b[49m\u001b[38;5;241;43m.\u001b[39;49m\u001b[43mlogger\u001b[49m\u001b[38;5;241;43m.\u001b[39;49m\u001b[43mdebug\u001b[49m\u001b[43m(\u001b[49m\u001b[38;5;124;43m\"\u001b[39;49m\u001b[38;5;124;43mError on connect(): \u001b[39;49m\u001b[38;5;132;43;01m%s\u001b[39;49;00m\u001b[38;5;124;43m\"\u001b[39;49m\u001b[43m,\u001b[49m\u001b[43m \u001b[49m\u001b[43me\u001b[49m\u001b[43m)\u001b[49m\n\u001b[1;32m    606\u001b[0m \u001b[38;5;28;01melse\u001b[39;00m:\n\u001b[1;32m    607\u001b[0m     \u001b[38;5;66;03m# in SQLAlchemy 1.4 the first_connect event is not used by\u001b[39;00m\n\u001b[1;32m    608\u001b[0m     \u001b[38;5;66;03m# the engine, so this will usually not be set\u001b[39;00m\n",
      "File \u001b[0;32m/usr/local/lib/python3.11/site-packages/sqlalchemy/util/langhelpers.py:70\u001b[0m, in \u001b[0;36msafe_reraise.__exit__\u001b[0;34m(self, type_, value, traceback)\u001b[0m\n\u001b[1;32m     68\u001b[0m     \u001b[38;5;28mself\u001b[39m\u001b[38;5;241m.\u001b[39m_exc_info \u001b[38;5;241m=\u001b[39m \u001b[38;5;28;01mNone\u001b[39;00m  \u001b[38;5;66;03m# remove potential circular references\u001b[39;00m\n\u001b[1;32m     69\u001b[0m     \u001b[38;5;28;01mif\u001b[39;00m \u001b[38;5;129;01mnot\u001b[39;00m \u001b[38;5;28mself\u001b[39m\u001b[38;5;241m.\u001b[39mwarn_only:\n\u001b[0;32m---> 70\u001b[0m         \u001b[43mcompat\u001b[49m\u001b[38;5;241;43m.\u001b[39;49m\u001b[43mraise_\u001b[49m\u001b[43m(\u001b[49m\n\u001b[1;32m     71\u001b[0m \u001b[43m            \u001b[49m\u001b[43mexc_value\u001b[49m\u001b[43m,\u001b[49m\n\u001b[1;32m     72\u001b[0m \u001b[43m            \u001b[49m\u001b[43mwith_traceback\u001b[49m\u001b[38;5;241;43m=\u001b[39;49m\u001b[43mexc_tb\u001b[49m\u001b[43m,\u001b[49m\n\u001b[1;32m     73\u001b[0m \u001b[43m        \u001b[49m\u001b[43m)\u001b[49m\n\u001b[1;32m     74\u001b[0m \u001b[38;5;28;01melse\u001b[39;00m:\n\u001b[1;32m     75\u001b[0m     \u001b[38;5;28;01mif\u001b[39;00m \u001b[38;5;129;01mnot\u001b[39;00m compat\u001b[38;5;241m.\u001b[39mpy3k \u001b[38;5;129;01mand\u001b[39;00m \u001b[38;5;28mself\u001b[39m\u001b[38;5;241m.\u001b[39m_exc_info \u001b[38;5;129;01mand\u001b[39;00m \u001b[38;5;28mself\u001b[39m\u001b[38;5;241m.\u001b[39m_exc_info[\u001b[38;5;241m1\u001b[39m]:\n\u001b[1;32m     76\u001b[0m         \u001b[38;5;66;03m# emulate Py3K's behavior of telling us when an exception\u001b[39;00m\n\u001b[1;32m     77\u001b[0m         \u001b[38;5;66;03m# occurs in an exception handler.\u001b[39;00m\n",
      "File \u001b[0;32m/usr/local/lib/python3.11/site-packages/sqlalchemy/util/compat.py:211\u001b[0m, in \u001b[0;36mraise_\u001b[0;34m(***failed resolving arguments***)\u001b[0m\n\u001b[1;32m    208\u001b[0m     exception\u001b[38;5;241m.\u001b[39m__cause__ \u001b[38;5;241m=\u001b[39m replace_context\n\u001b[1;32m    210\u001b[0m \u001b[38;5;28;01mtry\u001b[39;00m:\n\u001b[0;32m--> 211\u001b[0m     \u001b[38;5;28;01mraise\u001b[39;00m exception\n\u001b[1;32m    212\u001b[0m \u001b[38;5;28;01mfinally\u001b[39;00m:\n\u001b[1;32m    213\u001b[0m     \u001b[38;5;66;03m# credit to\u001b[39;00m\n\u001b[1;32m    214\u001b[0m     \u001b[38;5;66;03m# https://cosmicpercolator.com/2016/01/13/exception-leaks-in-python-2-and-3/\u001b[39;00m\n\u001b[1;32m    215\u001b[0m     \u001b[38;5;66;03m# as the __traceback__ object creates a cycle\u001b[39;00m\n\u001b[1;32m    216\u001b[0m     \u001b[38;5;28;01mdel\u001b[39;00m exception, replace_context, from_, with_traceback\n",
      "File \u001b[0;32m/usr/local/lib/python3.11/site-packages/sqlalchemy/pool/base.py:599\u001b[0m, in \u001b[0;36m_ConnectionRecord.__connect\u001b[0;34m(self)\u001b[0m\n\u001b[1;32m    597\u001b[0m \u001b[38;5;28;01mtry\u001b[39;00m:\n\u001b[1;32m    598\u001b[0m     \u001b[38;5;28mself\u001b[39m\u001b[38;5;241m.\u001b[39mstarttime \u001b[38;5;241m=\u001b[39m time\u001b[38;5;241m.\u001b[39mtime()\n\u001b[0;32m--> 599\u001b[0m     connection \u001b[38;5;241m=\u001b[39m \u001b[43mpool\u001b[49m\u001b[38;5;241;43m.\u001b[39;49m\u001b[43m_invoke_creator\u001b[49m\u001b[43m(\u001b[49m\u001b[38;5;28;43mself\u001b[39;49m\u001b[43m)\u001b[49m\n\u001b[1;32m    600\u001b[0m     pool\u001b[38;5;241m.\u001b[39mlogger\u001b[38;5;241m.\u001b[39mdebug(\u001b[38;5;124m\"\u001b[39m\u001b[38;5;124mCreated new connection \u001b[39m\u001b[38;5;132;01m%r\u001b[39;00m\u001b[38;5;124m\"\u001b[39m, connection)\n\u001b[1;32m    601\u001b[0m     \u001b[38;5;28mself\u001b[39m\u001b[38;5;241m.\u001b[39mconnection \u001b[38;5;241m=\u001b[39m connection\n",
      "File \u001b[0;32m/usr/local/lib/python3.11/site-packages/sqlalchemy/engine/create.py:578\u001b[0m, in \u001b[0;36mcreate_engine.<locals>.connect\u001b[0;34m(connection_record)\u001b[0m\n\u001b[1;32m    576\u001b[0m         \u001b[38;5;28;01mif\u001b[39;00m connection \u001b[38;5;129;01mis\u001b[39;00m \u001b[38;5;129;01mnot\u001b[39;00m \u001b[38;5;28;01mNone\u001b[39;00m:\n\u001b[1;32m    577\u001b[0m             \u001b[38;5;28;01mreturn\u001b[39;00m connection\n\u001b[0;32m--> 578\u001b[0m \u001b[38;5;28;01mreturn\u001b[39;00m \u001b[43mdialect\u001b[49m\u001b[38;5;241;43m.\u001b[39;49m\u001b[43mconnect\u001b[49m\u001b[43m(\u001b[49m\u001b[38;5;241;43m*\u001b[39;49m\u001b[43mcargs\u001b[49m\u001b[43m,\u001b[49m\u001b[43m \u001b[49m\u001b[38;5;241;43m*\u001b[39;49m\u001b[38;5;241;43m*\u001b[39;49m\u001b[43mcparams\u001b[49m\u001b[43m)\u001b[49m\n",
      "File \u001b[0;32m/usr/local/lib/python3.11/site-packages/sqlalchemy/engine/default.py:584\u001b[0m, in \u001b[0;36mDefaultDialect.connect\u001b[0;34m(self, *cargs, **cparams)\u001b[0m\n\u001b[1;32m    582\u001b[0m \u001b[38;5;28;01mdef\u001b[39;00m \u001b[38;5;21mconnect\u001b[39m(\u001b[38;5;28mself\u001b[39m, \u001b[38;5;241m*\u001b[39mcargs, \u001b[38;5;241m*\u001b[39m\u001b[38;5;241m*\u001b[39mcparams):\n\u001b[1;32m    583\u001b[0m     \u001b[38;5;66;03m# inherits the docstring from interfaces.Dialect.connect\u001b[39;00m\n\u001b[0;32m--> 584\u001b[0m     \u001b[38;5;28;01mreturn\u001b[39;00m \u001b[38;5;28;43mself\u001b[39;49m\u001b[38;5;241;43m.\u001b[39;49m\u001b[43mdbapi\u001b[49m\u001b[38;5;241;43m.\u001b[39;49m\u001b[43mconnect\u001b[49m\u001b[43m(\u001b[49m\u001b[38;5;241;43m*\u001b[39;49m\u001b[43mcargs\u001b[49m\u001b[43m,\u001b[49m\u001b[43m \u001b[49m\u001b[38;5;241;43m*\u001b[39;49m\u001b[38;5;241;43m*\u001b[39;49m\u001b[43mcparams\u001b[49m\u001b[43m)\u001b[49m\n",
      "File \u001b[0;32m/usr/local/lib/python3.11/site-packages/psycopg2/__init__.py:122\u001b[0m, in \u001b[0;36mconnect\u001b[0;34m(dsn, connection_factory, cursor_factory, **kwargs)\u001b[0m\n\u001b[1;32m    119\u001b[0m     kwasync[\u001b[38;5;124m'\u001b[39m\u001b[38;5;124masync_\u001b[39m\u001b[38;5;124m'\u001b[39m] \u001b[38;5;241m=\u001b[39m kwargs\u001b[38;5;241m.\u001b[39mpop(\u001b[38;5;124m'\u001b[39m\u001b[38;5;124masync_\u001b[39m\u001b[38;5;124m'\u001b[39m)\n\u001b[1;32m    121\u001b[0m dsn \u001b[38;5;241m=\u001b[39m _ext\u001b[38;5;241m.\u001b[39mmake_dsn(dsn, \u001b[38;5;241m*\u001b[39m\u001b[38;5;241m*\u001b[39mkwargs)\n\u001b[0;32m--> 122\u001b[0m conn \u001b[38;5;241m=\u001b[39m \u001b[43m_connect\u001b[49m\u001b[43m(\u001b[49m\u001b[43mdsn\u001b[49m\u001b[43m,\u001b[49m\u001b[43m \u001b[49m\u001b[43mconnection_factory\u001b[49m\u001b[38;5;241;43m=\u001b[39;49m\u001b[43mconnection_factory\u001b[49m\u001b[43m,\u001b[49m\u001b[43m \u001b[49m\u001b[38;5;241;43m*\u001b[39;49m\u001b[38;5;241;43m*\u001b[39;49m\u001b[43mkwasync\u001b[49m\u001b[43m)\u001b[49m\n\u001b[1;32m    123\u001b[0m \u001b[38;5;28;01mif\u001b[39;00m cursor_factory \u001b[38;5;129;01mis\u001b[39;00m \u001b[38;5;129;01mnot\u001b[39;00m \u001b[38;5;28;01mNone\u001b[39;00m:\n\u001b[1;32m    124\u001b[0m     conn\u001b[38;5;241m.\u001b[39mcursor_factory \u001b[38;5;241m=\u001b[39m cursor_factory\n",
      "\u001b[0;31mOperationalError\u001b[0m: (psycopg2.OperationalError) connection to server at \"pg_container\" (172.20.0.3), port 5432 failed: FATAL:  password authentication failed for user \"postgres\"\n\n(Background on this error at: http://sqlalche.me/e/14/e3q8)"
     ]
    }
   ],
   "source": [
    "engine.execute(\"SELECT * FROM customers LIMIT 2;\").fetchall()"
   ]
  },
  {
   "cell_type": "code",
   "execution_count": null,
   "id": "5017425c-4cfd-40c7-83b5-b9a8ca8384df",
   "metadata": {},
   "outputs": [],
   "source": []
  },
  {
   "cell_type": "code",
   "execution_count": null,
   "id": "e6cc4cb3",
   "metadata": {},
   "outputs": [],
   "source": [
    "customers_data = pd.read_sql_table('customers',engine)"
   ]
  },
  {
   "cell_type": "code",
   "execution_count": null,
   "id": "94767bcf",
   "metadata": {},
   "outputs": [],
   "source": [
    "query = \"\"\"select city, count(*) as number_of_customers,\n",
    "           count(nullif(gender,'M')) as female,\n",
    "           count(nullif(gender,'F')) as male\n",
    "           from customers\n",
    "           where city is not null\n",
    "           group by city\n",
    "           order by number_of_customers desc\n",
    "           limit 10\"\"\""
   ]
  },
  {
   "cell_type": "code",
   "execution_count": null,
   "id": "f9e1a979",
   "metadata": {},
   "outputs": [],
   "source": [
    "top_cities_data = pd.read_sql_query(query,engine)"
   ]
  },
  {
   "cell_type": "code",
   "execution_count": null,
   "id": "462c4404",
   "metadata": {},
   "outputs": [],
   "source": [
    "top_cities_data"
   ]
  },
  {
   "cell_type": "code",
   "execution_count": null,
   "id": "064268db",
   "metadata": {},
   "outputs": [],
   "source": [
    "ax = top_cities_data.plot.bar('city',y=['female','male'],\n",
    "                              title='Number of Customers by Gender and City')"
   ]
  },
  {
   "cell_type": "markdown",
   "id": "6a63840a",
   "metadata": {},
   "source": [
    "# 2. Writing data to database using Python"
   ]
  },
  {
   "cell_type": "code",
   "execution_count": null,
   "id": "2e6b18b6",
   "metadata": {},
   "outputs": [],
   "source": [
    "top_cities_data.to_sql('top_cities_data',engine,\n",
    "                       index=False,if_exists='replace')"
   ]
  },
  {
   "cell_type": "code",
   "execution_count": null,
   "id": "527a00c8",
   "metadata": {},
   "outputs": [],
   "source": [
    "#get help using the help function\n",
    "help('pandas.DataFrame.to_sql')"
   ]
  },
  {
   "cell_type": "code",
   "execution_count": null,
   "id": "a061b907",
   "metadata": {},
   "outputs": [],
   "source": [
    "#but what if you can't remember the name of the function?\n",
    "\n",
    "#using tab and shift+tab for help in Jupyter notebooks\n",
    "pd.pandas.DataFrame.\n",
    "#now press tab, which will bring up all possible functions, so you can find the one you are looking for\n",
    "pd.pandas.DataFrame.to_sql\n",
    "#now press shift+tab, which will bring up the help file and input arguments (in case you forget them)"
   ]
  },
  {
   "cell_type": "markdown",
   "id": "66d59d33",
   "metadata": {},
   "source": [
    "# 3. Reading and writing CSV files with Python"
   ]
  },
  {
   "cell_type": "code",
   "execution_count": null,
   "id": "96c3c7f3",
   "metadata": {},
   "outputs": [],
   "source": [
    "top_cities_data.to_csv('top_cities_analysis.csv',index=False)\n",
    "my_data=pd.read_csv('top_cities_analysis.csv')\n",
    "my_data"
   ]
  },
  {
   "cell_type": "code",
   "execution_count": null,
   "id": "45134f59",
   "metadata": {},
   "outputs": [],
   "source": [
    "help('pandas.read_csv')"
   ]
  },
  {
   "cell_type": "markdown",
   "id": "fced1cc0",
   "metadata": {},
   "source": [
    "# 4. Python basics (following Ch 1 of Python Workshop textbook)"
   ]
  },
  {
   "cell_type": "markdown",
   "id": "25305392",
   "metadata": {},
   "source": [
    "## 4.1 Basic math operations"
   ]
  },
  {
   "cell_type": "code",
   "execution_count": null,
   "id": "295afb2f",
   "metadata": {},
   "outputs": [],
   "source": [
    "#run these basic examples on your machine\n",
    "5+2\n",
    "5-2\n",
    "5*2\n",
    "5/2\n",
    "5//2 #integer division\n",
    "5**2 #5 squared\n",
    "5%2 #modulus"
   ]
  },
  {
   "cell_type": "code",
   "execution_count": null,
   "id": "db67e7d8",
   "metadata": {},
   "outputs": [],
   "source": [
    "#remember your order of operations (when in doubt, use parentheses)\n",
    "(100 - 5 ** 3) / 5\n",
    "6 + 15 % 4 \n",
    "2 ** 2 + 24 // 4"
   ]
  },
  {
   "cell_type": "code",
   "execution_count": null,
   "id": "bcace07e",
   "metadata": {},
   "outputs": [],
   "source": [
    "#spacing can improve readability (but doesn't change the meaning)\n",
    "6+5\n",
    "6 + 5"
   ]
  },
  {
   "cell_type": "markdown",
   "id": "e42fcb38",
   "metadata": {},
   "source": [
    "## 4.2 Integer vs. float"
   ]
  },
  {
   "cell_type": "code",
   "execution_count": null,
   "id": "7e4fc4a8",
   "metadata": {},
   "outputs": [],
   "source": [
    "type(6)\n",
    "type(6.0)"
   ]
  },
  {
   "cell_type": "code",
   "execution_count": null,
   "id": "48ee0f7b",
   "metadata": {},
   "outputs": [],
   "source": [
    "#what happens when you add an int and float?\n",
    "5 + 3.14\n",
    "type(5 + 3.14)"
   ]
  },
  {
   "cell_type": "code",
   "execution_count": null,
   "id": "3097474b",
   "metadata": {},
   "outputs": [],
   "source": [
    "#convert to different types\n",
    "int(7.99999999)\n",
    "float(6)"
   ]
  },
  {
   "cell_type": "markdown",
   "id": "44205ca6",
   "metadata": {},
   "source": [
    "## 4.3 Complex numbers"
   ]
  },
  {
   "cell_type": "code",
   "execution_count": null,
   "id": "33183e5c",
   "metadata": {},
   "outputs": [],
   "source": [
    "#Python uses j instead of i to represent sqrt(-1)\n",
    "(2 + 3j)/(1 - 5j)"
   ]
  },
  {
   "cell_type": "markdown",
   "id": "15ab0e9d",
   "metadata": {},
   "source": [
    "## 4.4 Variables"
   ]
  },
  {
   "cell_type": "code",
   "execution_count": null,
   "id": "eb2fc3e7",
   "metadata": {},
   "outputs": [],
   "source": [
    "x = 2\n",
    "x + 1"
   ]
  },
  {
   "cell_type": "code",
   "execution_count": null,
   "id": "7261d342",
   "metadata": {},
   "outputs": [],
   "source": [
    "x = 3.0\n",
    "x + 1"
   ]
  },
  {
   "cell_type": "code",
   "execution_count": null,
   "id": "8b2c2cba",
   "metadata": {},
   "outputs": [],
   "source": [
    "#python is dynamically typed (vs. unchanging types)\n",
    "y = 10\n",
    "y = y - 10.0\n",
    "type(y)"
   ]
  },
  {
   "cell_type": "markdown",
   "id": "f9963376",
   "metadata": {},
   "source": [
    "### 4.4.1 Reassigning variables in terms of themselves"
   ]
  },
  {
   "cell_type": "code",
   "execution_count": null,
   "id": "384c4644",
   "metadata": {},
   "outputs": [],
   "source": [
    "x = 3\n",
    "x = x + 1\n",
    "x\n",
    "\n",
    "x = 3\n",
    "x += 1\n",
    "x\n",
    "\n",
    "x = 3\n",
    "x -= 1\n",
    "x\n",
    "\n",
    "x = 3\n",
    "x *= 5\n",
    "x"
   ]
  },
  {
   "cell_type": "code",
   "execution_count": null,
   "id": "31389c2c",
   "metadata": {},
   "outputs": [],
   "source": [
    "# variables can not start with numbers, special characters, keywords, nor built-in types\n",
    "$&^city = 5"
   ]
  },
  {
   "cell_type": "code",
   "execution_count": null,
   "id": "9ef772e3",
   "metadata": {},
   "outputs": [],
   "source": [
    "# variables cannot contain spaces between characters\n",
    "best city = 'College Station'"
   ]
  },
  {
   "cell_type": "code",
   "execution_count": null,
   "id": "81588966",
   "metadata": {},
   "outputs": [],
   "source": [
    "# keywords to avoid when naming variables (Python will throw an error)\n",
    "import keyword\n",
    "print(keyword.kwlist)"
   ]
  },
  {
   "cell_type": "code",
   "execution_count": null,
   "id": "3a27dcc1",
   "metadata": {},
   "outputs": [],
   "source": [
    "# underscores are helpful\n",
    "best_city = 'College Station'\n",
    "best_city"
   ]
  },
  {
   "cell_type": "markdown",
   "id": "9778ec11",
   "metadata": {},
   "source": [
    "### 4.4.2 Declaring multiple variables (the Pythonic way)"
   ]
  },
  {
   "cell_type": "code",
   "execution_count": null,
   "id": "0e6e7c9e",
   "metadata": {},
   "outputs": [],
   "source": [
    "x, y, z = 8, 5, 'cat'\n",
    "x\n",
    "y\n",
    "z"
   ]
  },
  {
   "cell_type": "markdown",
   "id": "256bbc1c",
   "metadata": {},
   "source": [
    "## 4.5 Docstrings vs. comments"
   ]
  },
  {
   "cell_type": "code",
   "execution_count": null,
   "id": "96d82a8c",
   "metadata": {},
   "outputs": [],
   "source": [
    "# this is a comment\n",
    "\"\"\"\n",
    "Docstrings are like comments in that nothing happens when\n",
    "you execute this cell.  However, they are typically used \n",
    "when developers want to provide a description on what\n",
    "a particular 'document' (e.g. program, function, class, etc.)\n",
    "actually does.  These descriptions typically span\n",
    "multiple lines vs. comments which typically span one line.\n",
    "\"\"\""
   ]
  },
  {
   "cell_type": "markdown",
   "id": "36371452",
   "metadata": {},
   "source": [
    "## 4.6 Strings"
   ]
  },
  {
   "cell_type": "code",
   "execution_count": null,
   "id": "6b3fa0a6",
   "metadata": {},
   "outputs": [],
   "source": [
    "bookstore = 'City Lights'\n",
    "bookstore\n",
    "bookstore = \"City Lights\"\n",
    "bookstore"
   ]
  },
  {
   "cell_type": "code",
   "execution_count": null,
   "id": "e2c1028c",
   "metadata": {},
   "outputs": [],
   "source": [
    "#be consistent!\n",
    "bookstore = 'City Lights\""
   ]
  },
  {
   "cell_type": "code",
   "execution_count": null,
   "id": "039077f3",
   "metadata": {},
   "outputs": [],
   "source": [
    "#strings with apostrophes\n",
    "bookstore = 'Moe's'"
   ]
  },
  {
   "cell_type": "code",
   "execution_count": null,
   "id": "722041d4",
   "metadata": {},
   "outputs": [],
   "source": [
    "bookstore = \"Moe's\"\n",
    "bookstore"
   ]
  },
  {
   "cell_type": "code",
   "execution_count": null,
   "id": "5062d853",
   "metadata": {},
   "outputs": [],
   "source": [
    "bookstore = 'Moe\\'s'\n",
    "bookstore"
   ]
  },
  {
   "cell_type": "markdown",
   "id": "505b3590",
   "metadata": {},
   "source": [
    "### 4.6.1 Multi line strings"
   ]
  },
  {
   "cell_type": "code",
   "execution_count": null,
   "id": "dde4e3bb",
   "metadata": {},
   "outputs": [],
   "source": [
    "vacation_note = \"\"\"\n",
    "During our vacation to San Francisco, we\n",
    "waiting in a long line by Powell St. Station\n",
    "to take the cable car.\n",
    "\n",
    "Tap dancers performed on wooden boards.\n",
    "\n",
    "We started to look for a good place to eat\n",
    "when the cable car arrived.\n",
    "\"\"\"\n",
    "vacation_note\n",
    "#notice the escape sequences denoting the line breaks (\\n)\n",
    "\n",
    "print(vacation_note)"
   ]
  },
  {
   "cell_type": "markdown",
   "id": "299c22a2",
   "metadata": {},
   "source": [
    "### 4.6.2 String concatenation"
   ]
  },
  {
   "cell_type": "code",
   "execution_count": null,
   "id": "d4884efe",
   "metadata": {},
   "outputs": [],
   "source": [
    "greeting = 'Howdy'\n",
    "print(greeting + 'Sir.')\n",
    "greeting = 'Howdy '\n",
    "print(greeting + 'Sir.')\n",
    "print(greeting * 5)\n"
   ]
  },
  {
   "cell_type": "markdown",
   "id": "5071b537",
   "metadata": {},
   "source": [
    "### 4.6.3 String interpolation"
   ]
  },
  {
   "cell_type": "code",
   "execution_count": null,
   "id": "ccc6d570",
   "metadata": {},
   "outputs": [],
   "source": [
    "greeting = 'Howdy'\n",
    "print('Should we greet people with', greeting, 'in College Station?')"
   ]
  },
  {
   "cell_type": "code",
   "execution_count": null,
   "id": "1d83f852",
   "metadata": {},
   "outputs": [],
   "source": [
    "owner = 'Lawrence Ferlinghetti'\n",
    "age = 100\n",
    "print('The founder of City Lights Bookstore, {}, is now {} years old.'.format(owner,age))"
   ]
  },
  {
   "cell_type": "markdown",
   "id": "675bc1e9",
   "metadata": {},
   "source": [
    "### 4.6.4 Built-in string functions"
   ]
  },
  {
   "cell_type": "code",
   "execution_count": null,
   "id": "e8b5ea04",
   "metadata": {},
   "outputs": [],
   "source": [
    "len(greeting)"
   ]
  },
  {
   "cell_type": "code",
   "execution_count": null,
   "id": "686b7701",
   "metadata": {},
   "outputs": [],
   "source": [
    "#use tab completion to find variables\n",
    "#type len(g then hit the tab button\n",
    "#type greeting. then hit the tab button"
   ]
  },
  {
   "cell_type": "code",
   "execution_count": null,
   "id": "bc071aae",
   "metadata": {},
   "outputs": [],
   "source": [
    "greeting.lower()\n",
    "greeting.upper()\n",
    "greeting.endswith('y')\n",
    "greeting.count('w')"
   ]
  },
  {
   "cell_type": "markdown",
   "id": "ec8267f7",
   "metadata": {},
   "source": [
    "### 4.6.5 Casting"
   ]
  },
  {
   "cell_type": "code",
   "execution_count": null,
   "id": "10d6e628",
   "metadata": {},
   "outputs": [],
   "source": [
    "type('5')\n",
    "'5' + '7'\n",
    "int('5') + int('7')"
   ]
  },
  {
   "cell_type": "markdown",
   "id": "968c8ca7",
   "metadata": {},
   "source": [
    "### 4.6.6 Inputs from user"
   ]
  },
  {
   "cell_type": "code",
   "execution_count": null,
   "id": "b1d2c220",
   "metadata": {},
   "outputs": [],
   "source": [
    "print('What is your name?')\n",
    "name = input()\n",
    "print('Hello, ' + name + '.')\n",
    "#If an error arises, restart the kernel"
   ]
  },
  {
   "cell_type": "markdown",
   "id": "70c4bc47",
   "metadata": {},
   "source": [
    "### 4.6.7 String slicing and indexing"
   ]
  },
  {
   "cell_type": "code",
   "execution_count": null,
   "id": "918792d1",
   "metadata": {},
   "outputs": [],
   "source": [
    "#Python starts at 0 when indexing\n",
    "destination = 'College Station'\n",
    "destination[0]\n",
    "destination[1]\n",
    "destination[-1]\n",
    "destination[7]"
   ]
  },
  {
   "cell_type": "code",
   "execution_count": null,
   "id": "ee2899ff",
   "metadata": {},
   "outputs": [],
   "source": [
    "#Slicing\n",
    "destination[0:7]\n",
    "#Caution: lower bound of slice is always included, but upper bound is not!"
   ]
  },
  {
   "cell_type": "code",
   "execution_count": null,
   "id": "62760d8d",
   "metadata": {},
   "outputs": [],
   "source": [
    "#shortcut: omit the first numerical character to start at the beginning\n",
    "destination[:10]\n",
    "#shortcut: omit the last numerical character to go to the end and use a negative to specify how many before\n",
    "destination[-3:]"
   ]
  },
  {
   "cell_type": "markdown",
   "id": "8496f5b0",
   "metadata": {},
   "source": [
    "## 4.7 Booleans and conditionals"
   ]
  },
  {
   "cell_type": "code",
   "execution_count": null,
   "id": "8992d862",
   "metadata": {},
   "outputs": [],
   "source": [
    "over_18 = True\n",
    "type(over_18)"
   ]
  },
  {
   "cell_type": "code",
   "execution_count": null,
   "id": "74706b05",
   "metadata": {},
   "outputs": [],
   "source": [
    "over_21 = False\n",
    "over_21"
   ]
  },
  {
   "cell_type": "markdown",
   "id": "8b164b52",
   "metadata": {},
   "source": [
    "### 4.7.1 Logical operators"
   ]
  },
  {
   "cell_type": "code",
   "execution_count": null,
   "id": "274e3bdb",
   "metadata": {},
   "outputs": [],
   "source": [
    "over_18 and over_21\n",
    "over_18 or over_21\n",
    "not over_18\n",
    "not over_21 or (over_21 or over_18) #combine logical operators\n",
    "not (over_21 or (over_21 or over_18)) #parentheses matter"
   ]
  },
  {
   "cell_type": "markdown",
   "id": "b0b77e73",
   "metadata": {},
   "source": [
    "### 4.7.2 Comparison Operators"
   ]
  },
  {
   "cell_type": "code",
   "execution_count": null,
   "id": "44a21dca",
   "metadata": {},
   "outputs": [],
   "source": [
    "age = 20\n",
    "age < 13\n",
    "age >= 4\n",
    "age == 20\n",
    "age != 20\n",
    "age >= 20 and age <= 21 #combine with logical operators"
   ]
  },
  {
   "cell_type": "code",
   "execution_count": null,
   "id": "79aed142",
   "metadata": {},
   "outputs": [],
   "source": [
    "#equivalence can take place across different data types\n",
    "6 == 6.0 \n",
    "\n",
    "#but not always\n",
    "6 == '6'\n",
    "\n",
    "#pro tip: cast objects to be the same type before checking equivalence"
   ]
  },
  {
   "cell_type": "code",
   "execution_count": null,
   "id": "d421f760",
   "metadata": {},
   "outputs": [],
   "source": [
    "age=20\n",
    "\n",
    "#use parentheses for clarity\n",
    "(20 <= age < 30) or (30 <= age < 40)"
   ]
  },
  {
   "cell_type": "markdown",
   "id": "70263b91",
   "metadata": {},
   "source": [
    "### 4.7.3 Comparing strings"
   ]
  },
  {
   "cell_type": "code",
   "execution_count": null,
   "id": "10ee41c0",
   "metadata": {},
   "outputs": [],
   "source": [
    "#alphabetical order is used to compare strings\n",
    "'a' < 'c'\n",
    "'Austin' > 'College Station'"
   ]
  },
  {
   "cell_type": "markdown",
   "id": "64a766b7",
   "metadata": {},
   "source": [
    "### 4.7.4 Conditionals (if)"
   ]
  },
  {
   "cell_type": "code",
   "execution_count": null,
   "id": "3ac6e832",
   "metadata": {},
   "outputs": [],
   "source": [
    "age=20\n",
    "if age < 18:\n",
    "    print('You aren\\'t old enough to vote.')\n",
    "\n",
    "\"\"\"\n",
    "important features of the if statement:\n",
    "1) if keyword (start here)\n",
    "2) everything between the if keyword and the colon (:) is the condition to be checked\n",
    "3) colon(:) indicates the completion of the condition (compiler \n",
    "   then looks back to see if condition is true or false)\n",
    "4) everything that follows the colon MUST be indented\n",
    "\"\"\""
   ]
  },
  {
   "cell_type": "code",
   "execution_count": null,
   "id": "7771f704",
   "metadata": {},
   "outputs": [],
   "source": [
    "#indentation matters (generally can be accomplished with 4 spaces or the tab key)\n",
    "age=20\n",
    "if age < 18:\n",
    "print('You aren\\'t old enough to vote.')"
   ]
  },
  {
   "cell_type": "code",
   "execution_count": null,
   "id": "accae49d",
   "metadata": {},
   "outputs": [],
   "source": [
    "#indentation matters (generally can be accomplished with 4 spaces or the tab key)\n",
    "age=20\n",
    "if age < 18:\n",
    "    print('You aren\\'t old enough to vote.')"
   ]
  },
  {
   "cell_type": "code",
   "execution_count": null,
   "id": "95580c90",
   "metadata": {},
   "outputs": [],
   "source": [
    "#Nested conditionals with more indentation\n",
    "age=20\n",
    "if age >=18:\n",
    "    print('You can vote.')\n",
    "    if age >= 21:\n",
    "        print('You can play poker.')"
   ]
  },
  {
   "cell_type": "markdown",
   "id": "59a44dbc",
   "metadata": {},
   "source": [
    "### 4.7.5 Conditionals (if-else)"
   ]
  },
  {
   "cell_type": "code",
   "execution_count": null,
   "id": "d926afe0",
   "metadata": {},
   "outputs": [],
   "source": [
    "age=20\n",
    "if age >= 18:\n",
    "    print('Welcome to our voting program.')\n",
    "else:\n",
    "    print('You aren\\'t old enough to vote.')\n",
    "        "
   ]
  },
  {
   "cell_type": "markdown",
   "id": "fff9a3b3",
   "metadata": {},
   "source": [
    "### 4.7.6 Conditionals (elif)"
   ]
  },
  {
   "cell_type": "code",
   "execution_count": null,
   "id": "bbd25d5e",
   "metadata": {},
   "outputs": [],
   "source": [
    "#sort for else if\n",
    "age=20\n",
    "if age <= 10:\n",
    "    print('Listen, learn, and have fun.')\n",
    "elif age <= 19:\n",
    "    print('Go fearlessly forward.')\n",
    "else:\n",
    "    print('Each day is magical.')"
   ]
  },
  {
   "cell_type": "markdown",
   "id": "7a952b28",
   "metadata": {},
   "source": [
    "## 4.8 Loops"
   ]
  },
  {
   "cell_type": "markdown",
   "id": "38749a1b",
   "metadata": {},
   "source": [
    "### 4.8.1 While loops"
   ]
  },
  {
   "cell_type": "code",
   "execution_count": null,
   "id": "08f0dd16",
   "metadata": {},
   "outputs": [],
   "source": [
    "# while loop example\n",
    "i = 1 # initialize the variable\n",
    "while i <= 10: #set up the condition that must be met for the loop to run\n",
    "    print(i) #specify what should be done if the condition is met\n",
    "    i += 1 #increment the variable\n",
    "    \n",
    "# Note: you will get stuck in infinite loops.  It happens to everyone.  When this happens,\n",
    "# just restart the kernel."
   ]
  },
  {
   "cell_type": "markdown",
   "id": "07246980",
   "metadata": {},
   "source": [
    "### 4.8.2 Breaks"
   ]
  },
  {
   "cell_type": "code",
   "execution_count": null,
   "id": "e6211906",
   "metadata": {},
   "outputs": [],
   "source": [
    "x=100\n",
    "while x <= 1000:\n",
    "    x += 1\n",
    "    if x % 17 == 0:\n",
    "        print('', x, 'is the first number greater than 100 that is divisible by 17.')\n",
    "        break"
   ]
  },
  {
   "cell_type": "markdown",
   "id": "0dc82521",
   "metadata": {},
   "source": [
    "### 4.8.3 Exercise 19: The Real Estate Offer"
   ]
  },
  {
   "cell_type": "code",
   "execution_count": null,
   "id": "0b3519e6",
   "metadata": {},
   "outputs": [],
   "source": [
    "print('A one bedroom in the Bay Area is listed at $599,000.')\n",
    "print('Enter your first offer on the house.')\n",
    "offer = abs(int(input()))\n",
    "print('Enter your best offer on the house.')\n",
    "best = abs(int(input()))\n",
    "print('How much more do you want to offer each time?')\n",
    "increment = abs(int(input()))\n",
    "\n",
    "offer_accepted = False\n",
    "while offer <= best:\n",
    "    if offer >= 650000:\n",
    "        offer_accepted = True\n",
    "        print('Your offer of', offer, 'has been accepted!')\n",
    "        break\n",
    "    else:\n",
    "        print('We\\'re sorry, you\\'re offer of',offer,'has not been accepted.')\n",
    "        offer += increment\n"
   ]
  },
  {
   "cell_type": "markdown",
   "id": "b0351b38",
   "metadata": {},
   "source": [
    "### 4.8.4 For loops"
   ]
  },
  {
   "cell_type": "code",
   "execution_count": null,
   "id": "456e2c0e",
   "metadata": {},
   "outputs": [],
   "source": [
    "for i in 'Bryan':\n",
    "    print(i)"
   ]
  },
  {
   "cell_type": "code",
   "execution_count": null,
   "id": "42a7e5dd",
   "metadata": {},
   "outputs": [],
   "source": [
    "for i in range(1,10):\n",
    "    print(i)\n",
    "#notice the range doesn't include 10"
   ]
  },
  {
   "cell_type": "code",
   "execution_count": null,
   "id": "54fe5675",
   "metadata": {},
   "outputs": [],
   "source": [
    "for i in range(10):\n",
    "    print(i)\n",
    "#providing only 1 argument to range uses 0 to start and gives the first 10 numbers"
   ]
  },
  {
   "cell_type": "code",
   "execution_count": null,
   "id": "0c1e1d57",
   "metadata": {},
   "outputs": [],
   "source": [
    "for i in range(1,11,2):\n",
    "    print(i)\n",
    "#the third argument is the increment"
   ]
  },
  {
   "cell_type": "code",
   "execution_count": null,
   "id": "5e0ea5cb",
   "metadata": {},
   "outputs": [],
   "source": [
    "for i in range(3,0,-1):\n",
    "    print(i)\n",
    "#increments can be negative"
   ]
  },
  {
   "cell_type": "markdown",
   "id": "590617df",
   "metadata": {},
   "source": [
    "### The continue keyword"
   ]
  },
  {
   "cell_type": "code",
   "execution_count": null,
   "id": "412f39ab",
   "metadata": {},
   "outputs": [],
   "source": [
    "#used to interrupt the instructions provided in the loop and return to the beginning of the loop\n",
    "for num in range(10,100):\n",
    "    if num % 2 == 0:\n",
    "        continue\n",
    "    if num % 3 == 0:\n",
    "        continue\n",
    "    if num % 5 == 0:\n",
    "        continue\n",
    "    if num % 7 == 0:\n",
    "        continue\n",
    "    print(num)\n",
    "    #what is the output from this loop?"
   ]
  }
 ],
 "metadata": {
  "kernelspec": {
   "display_name": "Python 3 (ipykernel)",
   "language": "python",
   "name": "python3"
  },
  "language_info": {
   "codemirror_mode": {
    "name": "ipython",
    "version": 3
   },
   "file_extension": ".py",
   "mimetype": "text/x-python",
   "name": "python",
   "nbconvert_exporter": "python",
   "pygments_lexer": "ipython3",
   "version": "3.11.7"
  }
 },
 "nbformat": 4,
 "nbformat_minor": 5
}
