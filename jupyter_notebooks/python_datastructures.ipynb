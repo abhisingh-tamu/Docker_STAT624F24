{
 "cells": [
  {
   "cell_type": "markdown",
   "id": "d7777071",
   "metadata": {},
   "source": [
    "**© 2023 Scott A. Bruce. Do not distribute.**"
   ]
  },
  {
   "cell_type": "code",
   "execution_count": null,
   "id": "319d315c",
   "metadata": {},
   "outputs": [],
   "source": [
    "from IPython.core.interactiveshell import InteractiveShell\n",
    "InteractiveShell.ast_node_interactivity = \"all\""
   ]
  },
  {
   "cell_type": "markdown",
   "id": "8433e9ef",
   "metadata": {},
   "source": [
    "# 1. Introduction\n",
    "\n",
    "This notebook follows Chapter 2 of the Python Workshop textbook.  There are four types of basic data structures in Python: **list, tuple, dictionary** and **set**.  Each data structure has a set of operations that can be performed on data contained in the structure.  In the following sections, we will introduce these structures and how to manipulate them within Python."
   ]
  },
  {
   "cell_type": "markdown",
   "id": "a88235fc",
   "metadata": {},
   "source": [
    "# 2. Lists\n",
    "\n",
    "Lists are used to store multiple data sets at the same time and may contain different data types within the same list."
   ]
  },
  {
   "cell_type": "code",
   "execution_count": null,
   "id": "374b8be6",
   "metadata": {},
   "outputs": [],
   "source": [
    "shopping = ['bread','milk','eggs']\n",
    "print(shopping)"
   ]
  },
  {
   "cell_type": "code",
   "execution_count": null,
   "id": "d55de4bd",
   "metadata": {},
   "outputs": [],
   "source": [
    "for item in shopping:\n",
    "    print(item)"
   ]
  },
  {
   "cell_type": "markdown",
   "id": "f66971ea",
   "metadata": {},
   "source": [
    "Lists are similar to arrays encountered in other programming languages, but differ in that they can contain mixed data types."
   ]
  },
  {
   "cell_type": "code",
   "execution_count": null,
   "id": "a89c9ae6",
   "metadata": {},
   "outputs": [],
   "source": [
    "mixed = [365, 'days', True]\n",
    "print(mixed)"
   ]
  },
  {
   "cell_type": "markdown",
   "id": "73b6e814",
   "metadata": {},
   "source": [
    "## 2.1 Nested lists\n",
    "\n",
    "Can we have a 'list of lists'? Yes.  For example, matrices can be stored as nested lists."
   ]
  },
  {
   "cell_type": "code",
   "execution_count": null,
   "id": "7d626f92",
   "metadata": {},
   "outputs": [],
   "source": [
    "m = [[1,2,3],[4,5,6]]\n",
    "print(m)\n",
    "\n",
    "#each element in the list of m is a list containing the row elements for that index\n",
    "for row in m:\n",
    "    print(row)\n",
    "\n",
    "#can access elements using [row][column] notation\n",
    "print(m[1][2])\n",
    "#remember that indices start at 0"
   ]
  },
  {
   "cell_type": "markdown",
   "id": "af788b8f",
   "metadata": {},
   "source": [
    "To iterate over elements of a matrix using for loops, consider the following examples."
   ]
  },
  {
   "cell_type": "code",
   "execution_count": null,
   "id": "676f53c9",
   "metadata": {},
   "outputs": [],
   "source": [
    "for i in range(len(m)):\n",
    "    for j in range(len(m[i])):\n",
    "        print(m[i][j])"
   ]
  },
  {
   "cell_type": "code",
   "execution_count": null,
   "id": "ab7900e8",
   "metadata": {},
   "outputs": [],
   "source": [
    "for row in m:\n",
    "    for col in row:\n",
    "        print(col)"
   ]
  },
  {
   "cell_type": "markdown",
   "id": "b73255d6",
   "metadata": {},
   "source": [
    "Note that the first example explicitly states the row and column indices included in the iterations.  This is helpful when you do not want to access every element.  However, the second example spans all rows and columns and does not require us to know the number of rows or columns."
   ]
  },
  {
   "cell_type": "markdown",
   "id": "dbe0ef39",
   "metadata": {},
   "source": [
    "## 2.2 Activity 6\n",
    "\n",
    "In your notebook, open a new cell below this one and work through Activity 6 to familiarize yourself with nested lists."
   ]
  },
  {
   "cell_type": "markdown",
   "id": "0d0a74f5",
   "metadata": {},
   "source": [
    "## 2.3 Matrix operations\n",
    "\n",
    "Here is a rundown of basic matrix operations."
   ]
  },
  {
   "cell_type": "code",
   "execution_count": null,
   "id": "820f4e33",
   "metadata": {},
   "outputs": [],
   "source": [
    "#Addition and subtraction\n",
    "X = [[1,2,3],[4,5,6],[7,8,9]]\n",
    "Y = [[10,11,12],[13,14,15],[16,17,18]]\n",
    "\n",
    "#initialize a result placeholder for each\n",
    "addn = [[0,0,0],[0,0,0],[0,0,0]]\n",
    "subtractn = [[0,0,0],[0,0,0],[0,0,0]]\n",
    "\n",
    "for i in range(len(X)):\n",
    "    for j in range(len(Y[0])):\n",
    "        addn[i][j] = X[i][j] + Y[i][j]\n",
    "        subtractn[i][j] = X[i][j] - Y[i][j]\n",
    "        \n",
    "print(addn)\n",
    "print(subtractn)"
   ]
  },
  {
   "cell_type": "code",
   "execution_count": null,
   "id": "6c23ab9c",
   "metadata": {},
   "outputs": [],
   "source": [
    "#Matrix multiplication\n",
    "X = [[1,2,3],[4,5,6],[7,8,9]]\n",
    "Y = [[10,11,12],[13,14,15],[16,17,18]]\n",
    "\n",
    "#initialize a result placeholder for each\n",
    "multn = [[0,0,0],[0,0,0],[0,0,0]]\n",
    "\n",
    "for i in range(len(X)): #row of X\n",
    "    for j in range(len(Y[0])): #column of Y\n",
    "        for k in range(len(Y)): #row of Y\n",
    "            multn[i][j] += X[i][k] * Y[k][j]\n",
    "            \n",
    "for row in multn:\n",
    "    print(row)\n",
    "\n"
   ]
  },
  {
   "cell_type": "markdown",
   "id": "8efde264",
   "metadata": {},
   "source": [
    "Later on in the course, we will use NumPy for performing matrix calculations, since these are optimized for larger data structures.  More on this to come."
   ]
  },
  {
   "cell_type": "markdown",
   "id": "7696e9ba",
   "metadata": {},
   "source": [
    "## 2.4 Basic list operations"
   ]
  },
  {
   "cell_type": "code",
   "execution_count": null,
   "id": "273f82b4",
   "metadata": {},
   "outputs": [],
   "source": [
    "print(shopping)\n",
    "len(shopping) #length\n",
    "\n",
    "#concatenation\n",
    "[1,2,3]+[4,5,6]\n",
    "\n",
    "#repeating elements\n",
    "print(['Whoop!']*3)"
   ]
  },
  {
   "cell_type": "markdown",
   "id": "38fa6076",
   "metadata": {},
   "source": [
    "## 2.5 Accessing items in a list"
   ]
  },
  {
   "cell_type": "code",
   "execution_count": null,
   "id": "445ea585",
   "metadata": {},
   "outputs": [],
   "source": [
    "print(shopping)\n",
    "print(shopping[1])"
   ]
  },
  {
   "cell_type": "code",
   "execution_count": null,
   "id": "cd728fc6",
   "metadata": {},
   "outputs": [],
   "source": [
    "shopping[1] = 'banana'\n",
    "print(shopping)"
   ]
  },
  {
   "cell_type": "code",
   "execution_count": null,
   "id": "2b210199",
   "metadata": {},
   "outputs": [],
   "source": [
    "print(shopping[-1])"
   ]
  },
  {
   "cell_type": "markdown",
   "id": "91a7730b",
   "metadata": {},
   "source": [
    "**Note**: In Python, a positive index counts forward, and a negative index counts backward.  Use negative indices to access elements from the back"
   ]
  },
  {
   "cell_type": "code",
   "execution_count": null,
   "id": "3d05106c",
   "metadata": {},
   "outputs": [],
   "source": [
    "print(shopping[0:2])\n",
    "print(shopping[:3])\n",
    "print(shopping[1:])"
   ]
  },
  {
   "cell_type": "markdown",
   "id": "3b8c7936",
   "metadata": {},
   "source": [
    "## 2.6 Adding and inserting items into a list"
   ]
  },
  {
   "cell_type": "code",
   "execution_count": null,
   "id": "0205f4b1",
   "metadata": {},
   "outputs": [],
   "source": [
    "shopping = []\n",
    "shopping += ['bread','milk','eggs']\n",
    "print(shopping)\n",
    "shopping.append('apple')\n",
    "print(shopping)\n",
    "shopping.insert(2,'ham')\n",
    "print(shopping)"
   ]
  },
  {
   "cell_type": "markdown",
   "id": "5fe19408",
   "metadata": {},
   "source": [
    "# 3 Dictionaries\n",
    "\n",
    "A Python dictionary is an unordered collection.  They are written with curly brackets and consist of pairs of **keys** and **values**."
   ]
  },
  {
   "cell_type": "code",
   "execution_count": null,
   "id": "1d351e48",
   "metadata": {},
   "outputs": [],
   "source": [
    "email = {\n",
    "    'subject': 'Your car\\'s warranty is about to expire!',\n",
    "    'from': 'dubious_email_address@gmail.com',\n",
    "    'to': 'your_email_address@yahoo.com',\n",
    "    'cc': '',\n",
    "    'bcc': '',\n",
    "    'date_received':'2021-09-30',\n",
    "    'body':\"\"\"We\\'ve been trying to reach you about your car\\'s \n",
    "              warranty.  Please call us at 555-555-5555 \n",
    "              to maintain coverage!\"\"\"\n",
    "}\n",
    "print(email)"
   ]
  },
  {
   "cell_type": "markdown",
   "id": "c6d52e61",
   "metadata": {},
   "source": [
    "**Note**: You might have noticed a resemblance between Python dictionaries and JSON.  Although you can load JSON directly into Python, a Python dictionary is a complete data structure with its own set of algorithms and operations.  JSON is just a string written in a similar format."
   ]
  },
  {
   "cell_type": "markdown",
   "id": "7ae89cea",
   "metadata": {},
   "source": [
    "Dictionaries are like lists and share the following properties:\n",
    "\n",
    "- Both can be used to store values\n",
    "- Both can be chaned in place and can grow and shrink on demand\n",
    "- Both can be nested (i.e. lists of lists, dictionaries of dictionaries, lists of dictionaries, dictionaries of lists)\n",
    "\n",
    "The main difference is how elements are **accessed**. List elements are accessed by their position index, while dictionary elements are accessed via keys. \n",
    "\n",
    "Therefore, dictionaries are more suitable for representing collections of labeled items. However, there are some rules to remember:\n",
    "\n",
    "- Keys must be unique (no duplicate keys)\n",
    "- Keys must be immutable (can be a string, number, or a tuple)"
   ]
  },
  {
   "cell_type": "code",
   "execution_count": null,
   "id": "78c32669",
   "metadata": {},
   "outputs": [],
   "source": [
    "#print value for a given key\n",
    "print(email['to'])\n",
    "\n",
    "#update a value in place\n",
    "email['cc'] = 'other_email_address1@hotmail.com'\n",
    "\n",
    "print(email)"
   ]
  },
  {
   "cell_type": "markdown",
   "id": "aa40738a",
   "metadata": {},
   "source": [
    "Dictionaries are flexible in terms of size"
   ]
  },
  {
   "cell_type": "code",
   "execution_count": null,
   "id": "82ce1ac1",
   "metadata": {},
   "outputs": [],
   "source": [
    "#create dictionary one key-value pair at a time\n",
    "email = {}\n",
    "email['subject'] = 'Your car\\'s warranty is about to expire!'\n",
    "email['from'] = 'dubious_email_address@gmail.com'\n",
    "email['to'] = 'your_email_address@yahoo.com'\n",
    "email['cc'] = ''\n",
    "email['bcc'] = ''\n",
    "email['date_received'] = '2021-09-30'\n",
    "email['body'] = 'We\\'ve been trying to reach you about your car\\'s warranty.  Please call us at 555-555-5555 to maintain coverage!'\n",
    "print(email)"
   ]
  },
  {
   "cell_type": "code",
   "execution_count": null,
   "id": "37dd9bad",
   "metadata": {},
   "outputs": [],
   "source": [
    "#list in a dictionary\n",
    "email['cc'] = ['email1@gmail.com','email2@hotmail.com','email3@aol.com']\n",
    "print(email['cc'])\n",
    "\n",
    "#dictionary in a dictionary\n",
    "email['metadata'] = {\n",
    "    'sender_ip': '132:123:1231:12',\n",
    "    'attachment': True,\n",
    "    'fraud_score': 10\n",
    "}\n",
    "print(email['metadata'])"
   ]
  },
  {
   "cell_type": "markdown",
   "id": "e785ada7",
   "metadata": {},
   "source": [
    "By combining lists and dictionaries creatively, we can store complex real-world information and model structures directly and easily.  This is one of the min benefits of scripting languages such as Python.\n",
    "\n",
    "For example, a table in a database can be stored as a list with nested dictionaries for each record (see Activity 7)."
   ]
  },
  {
   "cell_type": "markdown",
   "id": "dfce89ce",
   "metadata": {},
   "source": [
    "## 3.1 Zipping and unzipping dictionaries using zip()\n",
    "\n",
    "Sometimes you obtain information from multiple lists that need to be aggregated for analysis.  In this case you can use the `zip()` method to aggregate lists and create a zip object, which can then be unzipped into a list, tuple, or dictionary.  This can be useful, especially when converting a list to a dictionary."
   ]
  },
  {
   "cell_type": "code",
   "execution_count": null,
   "id": "94158e11",
   "metadata": {},
   "outputs": [],
   "source": [
    "items = ['apple','orange','banana']\n",
    "quantity = [5,3,2]"
   ]
  },
  {
   "cell_type": "code",
   "execution_count": null,
   "id": "ee00d23c",
   "metadata": {},
   "outputs": [],
   "source": [
    "orders = zip(items,quantity)\n",
    "print(orders)"
   ]
  },
  {
   "cell_type": "code",
   "execution_count": null,
   "id": "0eebcac5",
   "metadata": {},
   "outputs": [],
   "source": [
    "orders = zip(items,quantity)\n",
    "print(list(orders))"
   ]
  },
  {
   "cell_type": "code",
   "execution_count": null,
   "id": "49c1578d",
   "metadata": {},
   "outputs": [],
   "source": [
    "orders = zip(items,quantity)\n",
    "print(tuple(orders))"
   ]
  },
  {
   "cell_type": "code",
   "execution_count": null,
   "id": "05754002",
   "metadata": {},
   "outputs": [],
   "source": [
    "orders = zip(items,quantity)\n",
    "print(dict(orders))"
   ]
  },
  {
   "cell_type": "markdown",
   "id": "b80a6046",
   "metadata": {},
   "source": [
    "## 3.2 Dictionary methods"
   ]
  },
  {
   "cell_type": "code",
   "execution_count": null,
   "id": "bdfbc24c",
   "metadata": {},
   "outputs": [],
   "source": [
    "orders = {'apple':5, 'orange':3, 'banana':2}\n",
    "print(orders.values()) #access values\n",
    "print(list(orders.values())) #store values in list (can be for later use)\n",
    "print(list(orders.keys())) #store keys in list (can be for later use)"
   ]
  },
  {
   "cell_type": "markdown",
   "id": "7a953635",
   "metadata": {},
   "source": [
    "**Note**: You can't directly iterate a dictionary.  You can first convert it to a list of tuples using the `items()` method, then iterate the resulting list and access it."
   ]
  },
  {
   "cell_type": "code",
   "execution_count": null,
   "id": "3fef2f31",
   "metadata": {},
   "outputs": [],
   "source": [
    "orders = {'apple':5, 'orange':3, 'banana':2}\n",
    "for tuple in list(orders.items()):\n",
    "    print(tuple)"
   ]
  },
  {
   "cell_type": "markdown",
   "id": "d9061bad",
   "metadata": {},
   "source": [
    "# 4. Tuples"
   ]
  },
  {
   "cell_type": "markdown",
   "id": "1238f929",
   "metadata": {},
   "source": [
    "A tuple object is similar to a list, but **it cannot be changed after initialization**.  Use typles to represent fixed collections of items."
   ]
  },
  {
   "cell_type": "code",
   "execution_count": null,
   "id": "373fe59f",
   "metadata": {},
   "outputs": [],
   "source": [
    "weekdays_list = ['Monday', 'Tuesday',\n",
    "                 'Wednesday','Thursday',\n",
    "                 'Friday','Saturday','Sunday']"
   ]
  },
  {
   "cell_type": "markdown",
   "id": "d44df82c",
   "metadata": {},
   "source": [
    "However, this does not guarantee that values will remain unchanged throughout its lifetime.  Lists are **mutable**."
   ]
  },
  {
   "cell_type": "code",
   "execution_count": null,
   "id": "1d2ed9d4",
   "metadata": {},
   "outputs": [],
   "source": [
    "weekdays_list = ['Monday', 'Tuesday',\n",
    "                 'Wednesday','Thursday',\n",
    "                 'Friday','Saturday','Sunday']\n",
    "weekdays_list.remove('Monday')\n",
    "print(weekdays_list)"
   ]
  },
  {
   "cell_type": "markdown",
   "id": "415e2e13",
   "metadata": {},
   "source": [
    "Tuples on the other hand are **immutable**.  "
   ]
  },
  {
   "cell_type": "code",
   "execution_count": null,
   "id": "cde481c1",
   "metadata": {},
   "outputs": [],
   "source": [
    "weekdays_tup = ('Monday', 'Tuesday',\n",
    "                 'Wednesday','Thursday',\n",
    "                 'Friday','Saturday','Sunday')\n",
    "weekdays_tup.remove('Monday')"
   ]
  },
  {
   "cell_type": "code",
   "execution_count": null,
   "id": "81b1099e",
   "metadata": {},
   "outputs": [],
   "source": [
    "weekdays_tup[0]\n",
    "weekdays_tup[0] = 'Saturday'"
   ]
  },
  {
   "cell_type": "code",
   "execution_count": null,
   "id": "7dc249e2",
   "metadata": {},
   "outputs": [],
   "source": [
    "print(weekdays_tup)"
   ]
  },
  {
   "cell_type": "markdown",
   "id": "bcd6807c",
   "metadata": {},
   "source": [
    "You can't append to a tuple, but you can create a new tuple by concatenating an existing tuple with new items."
   ]
  },
  {
   "cell_type": "code",
   "execution_count": null,
   "id": "c8def378",
   "metadata": {},
   "outputs": [],
   "source": [
    "weekdays_tup.append('Funday')"
   ]
  },
  {
   "cell_type": "code",
   "execution_count": null,
   "id": "ff2544a4",
   "metadata": {},
   "outputs": [],
   "source": [
    "print(weekdays_tup + ('Funday',))"
   ]
  },
  {
   "cell_type": "markdown",
   "id": "954063b9",
   "metadata": {},
   "source": [
    "Tuples also support mixed data types and nesting."
   ]
  },
  {
   "cell_type": "code",
   "execution_count": null,
   "id": "dc49b47a",
   "metadata": {},
   "outputs": [],
   "source": [
    "mixed = ('apple',True,3)\n",
    "shopping = ('apple',3),('orange',2),('banana',5)\n",
    "print(mixed)\n",
    "print(shopping)"
   ]
  },
  {
   "cell_type": "markdown",
   "id": "005ec8c4",
   "metadata": {},
   "source": [
    "# 5. Sets"
   ]
  },
  {
   "cell_type": "markdown",
   "id": "caa83e12",
   "metadata": {},
   "source": [
    "Sets are relatively new to Python. Sets are unordered collections of **unique** and **immutable** objects that support operations mimicking mathmematical set theory.  Sets can also be used to prevent duplicate values."
   ]
  },
  {
   "cell_type": "code",
   "execution_count": null,
   "id": "aabe4f34",
   "metadata": {},
   "outputs": [],
   "source": [
    "#initialize by passing in a list\n",
    "s1 = set([1,2,3,4,5,6])\n",
    "print(s1)\n",
    "s2 = set([1,2,2,3,4,4,5,6,6])\n",
    "print(s2)\n",
    "s3 = set([3,4,5,6,6,6,1,1,2])\n",
    "print(s3)"
   ]
  },
  {
   "cell_type": "code",
   "execution_count": null,
   "id": "7f5d6656",
   "metadata": {},
   "outputs": [],
   "source": [
    "#initialize with curly brackets directly\n",
    "s4 = {'apple','orange','banana'}\n",
    "print(s4)"
   ]
  },
  {
   "cell_type": "markdown",
   "id": "44a1ad90",
   "metadata": {},
   "source": [
    "While the objects in a set are immutable, sets are mutable."
   ]
  },
  {
   "cell_type": "code",
   "execution_count": null,
   "id": "27a413ff",
   "metadata": {},
   "outputs": [],
   "source": [
    "s4.add('pineapple')\n",
    "print(s4)"
   ]
  },
  {
   "cell_type": "markdown",
   "id": "6034f5f6",
   "metadata": {},
   "source": [
    "## 5.1 Set operations"
   ]
  },
  {
   "cell_type": "code",
   "execution_count": null,
   "id": "efb9e666",
   "metadata": {},
   "outputs": [],
   "source": [
    "s5,s6 = {1,2,3,4},{3,4,5,6}\n",
    "\n",
    "#unions\n",
    "print(s5|s6)\n",
    "print(s5.union(s6))\n",
    "\n",
    "#intersections\n",
    "print(s5 & s6)\n",
    "print(s6.intersection(s5))"
   ]
  },
  {
   "cell_type": "code",
   "execution_count": null,
   "id": "4e97b0ba",
   "metadata": {},
   "outputs": [],
   "source": [
    "s5,s6 = {1,2,3,4},{3,4,5,6}\n",
    "\n",
    "#set minus\n",
    "print(s5 - s6)\n",
    "print(s5.difference(s6))\n",
    "\n",
    "#check if subset\n",
    "print(s5 <= s6)\n",
    "print(s5.issubset(s6))\n",
    "\n",
    "s7 = {1,2,3}\n",
    "print(s7 <= s5)\n",
    "print(s7 <= s7)\n",
    "\n",
    "#check if proper subset\n",
    "print(s7 < s5)\n",
    "print(s7 < s7)\n",
    "\n",
    "#check if superset\n",
    "print(s5 >= s7)\n",
    "print(s5.issuperset(s7))\n",
    "print(s5 > s7)\n",
    "print(s5 > s5)"
   ]
  },
  {
   "cell_type": "markdown",
   "id": "2df7a5e4",
   "metadata": {},
   "source": [
    "**Note**: How are sets different from lists and dictionaries?\n",
    " - Sets are different from lists in that they are unordered.  \n",
    " - Sets are different from dictionaries in that they do not map keys to values.  \n",
    " - Sets are neither a sequence or a mapping type; they are a type by themselves."
   ]
  },
  {
   "cell_type": "markdown",
   "id": "d69c0199",
   "metadata": {},
   "source": [
    "# 6. Choosing the right structure\n",
    "\n",
    "Here are some general guidelines for choosing the right structure (based on their unique characteristics):\n",
    " \n",
    " - Lists are used to store multiple objects and retain a sequence\n",
    " - Dictionaries store unique key-value pair mappings\n",
    " - Tuples are immutable\n",
    " - Sets only store unique elements\n",
    " \n",
    "Choosing an inappropriate data structure could lead to low efficiency when running code, security issues, and data loss.  Choose wisely!"
   ]
  }
 ],
 "metadata": {
  "kernelspec": {
   "display_name": "Python 3 (ipykernel)",
   "language": "python",
   "name": "python3"
  },
  "language_info": {
   "codemirror_mode": {
    "name": "ipython",
    "version": 3
   },
   "file_extension": ".py",
   "mimetype": "text/x-python",
   "name": "python",
   "nbconvert_exporter": "python",
   "pygments_lexer": "ipython3",
   "version": "3.10.9"
  }
 },
 "nbformat": 4,
 "nbformat_minor": 5
}
